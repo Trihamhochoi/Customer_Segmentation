{
 "cells": [
  {
   "cell_type": "code",
   "execution_count": 1,
   "id": "7ce5b032-47ed-4b84-bd1e-967cf12e17f8",
   "metadata": {
    "id": "c0JvcgTY_23t",
    "tags": []
   },
   "outputs": [],
   "source": [
    "import findspark\n",
    "findspark.init()"
   ]
  },
  {
   "cell_type": "code",
   "execution_count": 2,
   "id": "d387ca99-2462-4625-b6b7-4c5e9f7d3e77",
   "metadata": {
    "id": "sMEWXllEAD3X"
   },
   "outputs": [],
   "source": [
    "# import libraries\n",
    "from pyspark import SparkContext\n",
    "from pyspark.conf import SparkConf\n",
    "from pyspark.sql import SparkSession\n",
    "import matplotlib.pyplot as plt\n",
    "import seaborn as sns\n",
    "from scipy import stats\n",
    "from datetime import datetime\n",
    "from pyspark.sql import Row\n",
    "import pyspark.sql.functions as f\n",
    "\n",
    "import pyspark.sql.types as t\n",
    "\n",
    "import pyspark.ml.feature as feat\n",
    "\n",
    "import numpy as np\n",
    "import pandas as pd\n",
    "\n",
    "# Pipeline\n",
    "from pyspark.ml import Pipeline, PipelineModel\n",
    "\n",
    "# Machine learning\n",
    "from pyspark.ml.linalg import Vectors\n",
    "from pyspark.ml.clustering import KMeans\n",
    "from pyspark.ml.evaluation import ClusteringEvaluator\n",
    "\n",
    "# Cross validation \n",
    "from pyspark.ml.tuning import ParamGridBuilder, CrossValidator\n"
   ]
  },
  {
   "cell_type": "code",
   "execution_count": 5,
   "id": "e40bf649-9fe2-476e-aa0e-51a4347a48b8",
   "metadata": {},
   "outputs": [],
   "source": [
    "# import os\n",
    "# import sys\n",
    "\n",
    "# os.environ['PYSPARK_PYTHON'] = sys.executable\n",
    "# os.environ['PYSPARK_DRIVER_PYTHON'] = sys.executable"
   ]
  },
  {
   "cell_type": "markdown",
   "id": "794843e8-0534-4e8e-881d-75fb215b3a7c",
   "metadata": {},
   "source": [
    "# About Dataset\n",
    "Build a clustering model for Customer Segmentation."
   ]
  },
  {
   "cell_type": "code",
   "execution_count": 3,
   "id": "e39dfecb-4c7f-4a3f-9076-077e4ad1f838",
   "metadata": {},
   "outputs": [],
   "source": [
    "SparkContext.setSystemProperty(key='spark.hadoop.dfs.client.use.datanode.hostname',value='true')"
   ]
  },
  {
   "cell_type": "code",
   "execution_count": 4,
   "id": "d1f950e2-d57f-448e-9732-b165188c3f73",
   "metadata": {
    "id": "wnB3qrDkAJNX"
   },
   "outputs": [],
   "source": [
    "sc =SparkContext()"
   ]
  },
  {
   "cell_type": "code",
   "execution_count": 5,
   "id": "a5c087cf-5aed-4268-9289-b1c9ccf901b2",
   "metadata": {
    "id": "2mfBvmJoejHV"
   },
   "outputs": [],
   "source": [
    "sc.setLogLevel(\"ERROR\")"
   ]
  },
  {
   "cell_type": "code",
   "execution_count": 6,
   "id": "764bbae3-64d3-4bf6-90d1-87f0f65ddb5f",
   "metadata": {
    "id": "bxVoyCsJAU1Q"
   },
   "outputs": [],
   "source": [
    "spark = SparkSession(sc)"
   ]
  },
  {
   "cell_type": "code",
   "execution_count": 7,
   "id": "f19e1d23-c716-4900-84f3-04352d1c5043",
   "metadata": {},
   "outputs": [],
   "source": [
    "df = spark.read.csv('../DATA/rfm_data.csv',inferSchema=True,header=True)"
   ]
  },
  {
   "cell_type": "code",
   "execution_count": 8,
   "id": "ea2a70df-319f-4791-aeca-8c550a2a2774",
   "metadata": {},
   "outputs": [
    {
     "name": "stdout",
     "output_type": "stream",
     "text": [
      "+----------+-------+---------+--------+---+---+---+-------+---------+--------+\n",
      "|CustomerID|recency|frequency|monetary|  R|  F|  M|rfm_seg|rfm_score|   label|\n",
      "+----------+-------+---------+--------+---+---+---+-------+---------+--------+\n",
      "|     12346|    325|        1| 77183.6|  1|  1|  4|    114|        6|    rich|\n",
      "|     12347|      1|        7|  4310.0|  4|  4|  4|    444|       12|     VIP|\n",
      "|     12348|     74|        4| 1797.24|  2|  3|  4|    234|        9|    rich|\n",
      "|     12349|     18|        1| 1757.55|  4|  1|  4|    414|        9|   other|\n",
      "|     12350|    309|        1|   334.4|  1|  1|  2|    112|        4|inactive|\n",
      "+----------+-------+---------+--------+---+---+---+-------+---------+--------+\n",
      "only showing top 5 rows\n",
      "\n"
     ]
    }
   ],
   "source": [
    "df.show(5)"
   ]
  },
  {
   "cell_type": "markdown",
   "id": "1595e0cd-57be-4dfc-af86-f4fc874349dc",
   "metadata": {
    "tags": []
   },
   "source": [
    "# Overview"
   ]
  },
  {
   "cell_type": "code",
   "execution_count": 9,
   "id": "a478e832-51af-4f35-b391-6deb37a9fd75",
   "metadata": {},
   "outputs": [
    {
     "name": "stdout",
     "output_type": "stream",
     "text": [
      "+----------+-------+---------+--------+---+---+---+-------+---------+-----+\n",
      "|CustomerID|recency|frequency|monetary|  R|  F|  M|rfm_seg|rfm_score|label|\n",
      "+----------+-------+---------+--------+---+---+---+-------+---------+-----+\n",
      "|     12346|    325|        1| 77183.6|  1|  1|  4|    114|        6| rich|\n",
      "+----------+-------+---------+--------+---+---+---+-------+---------+-----+\n",
      "only showing top 1 row\n",
      "\n",
      "root\n",
      " |-- CustomerID: string (nullable = true)\n",
      " |-- recency: integer (nullable = true)\n",
      " |-- frequency: integer (nullable = true)\n",
      " |-- monetary: double (nullable = true)\n",
      " |-- R: integer (nullable = true)\n",
      " |-- F: integer (nullable = true)\n",
      " |-- M: integer (nullable = true)\n",
      " |-- rfm_seg: integer (nullable = true)\n",
      " |-- rfm_score: integer (nullable = true)\n",
      " |-- label: string (nullable = true)\n",
      "\n",
      "There are 5766 rows and 10 columns in dataframe\n"
     ]
    }
   ],
   "source": [
    "df.show(1,vertical=False,truncate=True)\n",
    "df.printSchema()\n",
    "print(f'There are {df.count()} rows and {len(df.columns)} columns in dataframe')"
   ]
  },
  {
   "cell_type": "markdown",
   "id": "764c29e4-77c4-402e-8728-e12f77f7a100",
   "metadata": {},
   "source": [
    "## check null"
   ]
  },
  {
   "cell_type": "code",
   "execution_count": 10,
   "id": "21bbfbf9-ab20-4fd7-9cd9-3e7a7556b63c",
   "metadata": {},
   "outputs": [
    {
     "name": "stdout",
     "output_type": "stream",
     "text": [
      "+----------+-------+---------+--------+---+---+---+-------+---------+-----+\n",
      "|CustomerID|recency|frequency|monetary|  R|  F|  M|rfm_seg|rfm_score|label|\n",
      "+----------+-------+---------+--------+---+---+---+-------+---------+-----+\n",
      "|         0|      0|        0|       0|  0|  0|  0|      0|        0|    0|\n",
      "+----------+-------+---------+--------+---+---+---+-------+---------+-----+\n",
      "\n"
     ]
    }
   ],
   "source": [
    "df.select([f.count(f.when(f.isnan(c), c)).alias(c) for c in df.columns]).show()"
   ]
  },
  {
   "cell_type": "code",
   "execution_count": 11,
   "id": "8c0103d9-dd5a-48a4-826b-de17c445f3c1",
   "metadata": {},
   "outputs": [
    {
     "name": "stdout",
     "output_type": "stream",
     "text": [
      "+----------+-------+---------+--------+---+---+---+-------+---------+-----+\n",
      "|CustomerID|recency|frequency|monetary|  R|  F|  M|rfm_seg|rfm_score|label|\n",
      "+----------+-------+---------+--------+---+---+---+-------+---------+-----+\n",
      "|         0|      0|        0|       0|  0|  0|  0|      0|        0|    0|\n",
      "+----------+-------+---------+--------+---+---+---+-------+---------+-----+\n",
      "\n"
     ]
    }
   ],
   "source": [
    "df.select([f.count(f.when(f.isnull(c), c)).alias(c) for c in df.columns]).show()"
   ]
  },
  {
   "cell_type": "markdown",
   "id": "26e3cbe0-56ab-45cb-9f33-d1e0663e0cc0",
   "metadata": {},
   "source": [
    "## Descirble data"
   ]
  },
  {
   "cell_type": "code",
   "execution_count": 12,
   "id": "eb9c9a38-de5a-403d-9eca-b703f1c0a532",
   "metadata": {},
   "outputs": [
    {
     "data": {
      "text/plain": [
       "['R', 'F', 'M', 'rfm_seg', 'label']"
      ]
     },
     "execution_count": 12,
     "metadata": {},
     "output_type": "execute_result"
    }
   ],
   "source": [
    "cat_col = ['R','F','M','rfm_seg','label']\n",
    "cat_col"
   ]
  },
  {
   "cell_type": "code",
   "execution_count": 13,
   "id": "82bd1d55-fd3d-49b5-82fe-a7274b8e204c",
   "metadata": {},
   "outputs": [
    {
     "data": {
      "text/plain": [
       "['recency', 'frequency', 'monetary', 'rfm_score']"
      ]
     },
     "execution_count": 13,
     "metadata": {},
     "output_type": "execute_result"
    }
   ],
   "source": [
    "numeric_col = [k for k,v in dict(df.dtypes).items() if not (v=='string' or v=='timestamp') and not k in cat_col]\n",
    "#numeric_col = numeric_col[2:] \n",
    "numeric_col"
   ]
  },
  {
   "cell_type": "code",
   "execution_count": 14,
   "id": "ac160214-c4e4-47d5-b9db-2e078cbe0ac3",
   "metadata": {},
   "outputs": [
    {
     "name": "stdout",
     "output_type": "stream",
     "text": [
      "+-------+------------------+------------------+----------------+------------------+\n",
      "|summary|           recency|         frequency|        monetary|         rfm_score|\n",
      "+-------+------------------+------------------+----------------+------------------+\n",
      "|  count|              5766|              5766|            5766|              5766|\n",
      "|   mean|116.50693721817551|3.4616718695802984|1849.92794658342|               7.5|\n",
      "| stddev|111.29927870457249| 6.824640696687705|7919.02686104613|2.7233690425446904|\n",
      "|    min|                 0|                 1|            0.42|                 3|\n",
      "|    max|               373|               209|       280206.02|                12|\n",
      "+-------+------------------+------------------+----------------+------------------+\n",
      "\n"
     ]
    }
   ],
   "source": [
    "df.select(numeric_col).describe().show()"
   ]
  },
  {
   "cell_type": "markdown",
   "id": "0d65ec0b-0492-4d43-8cee-d4d0f2421bf6",
   "metadata": {},
   "source": [
    "## Category data"
   ]
  },
  {
   "cell_type": "markdown",
   "id": "91845de6-f68b-477a-9fbe-0a4f6b84233d",
   "metadata": {},
   "source": [
    "### Check distinct values"
   ]
  },
  {
   "cell_type": "code",
   "execution_count": 15,
   "id": "c693404d-a585-4a33-83e1-792659cf1d15",
   "metadata": {},
   "outputs": [
    {
     "name": "stdout",
     "output_type": "stream",
     "text": [
      "+----------+---+---+---+-------+-----+\n",
      "|CustomerID|  R|  F|  M|rfm_seg|label|\n",
      "+----------+---+---+---+-------+-----+\n",
      "|      5766|  4|  4|  4|     63|    8|\n",
      "+----------+---+---+---+-------+-----+\n",
      "\n"
     ]
    }
   ],
   "source": [
    "df.select([f.count_distinct(c).alias(c) for c in df.columns if c not in numeric_col]).show()"
   ]
  },
  {
   "cell_type": "markdown",
   "id": "166b3fc9-ca29-41e6-9d1b-d07176b8228a",
   "metadata": {},
   "source": [
    "- Remove some columns is not appropriate for model: `CustomerID` because it can cause **the curse of dimensionality**"
   ]
  },
  {
   "cell_type": "code",
   "execution_count": 16,
   "id": "ad9be41b-7dc9-43bc-a3ec-12ad91f07f1f",
   "metadata": {},
   "outputs": [],
   "source": [
    "df_final = df.drop('CustomerID')"
   ]
  },
  {
   "cell_type": "markdown",
   "id": "d0aba832-ad92-41fd-b868-0f416488cf19",
   "metadata": {},
   "source": [
    "### Check top5 disticnt value count of each category columns in df "
   ]
  },
  {
   "cell_type": "code",
   "execution_count": 17,
   "id": "c475ffac-2dd3-4111-9193-7323a9980062",
   "metadata": {},
   "outputs": [
    {
     "name": "stdout",
     "output_type": "stream",
     "text": [
      "+---+-----+------------------+\n",
      "|R  |count|Normalize         |\n",
      "+---+-----+------------------+\n",
      "|1  |1442 |0.2500867152271939|\n",
      "|4  |1442 |0.2500867152271939|\n",
      "|3  |1441 |0.2499132847728061|\n",
      "|2  |1441 |0.2499132847728061|\n",
      "+---+-----+------------------+\n",
      "\n",
      "+---+-----+------------------+\n",
      "|F  |count|Normalize         |\n",
      "+---+-----+------------------+\n",
      "|1  |1442 |0.2500867152271939|\n",
      "|4  |1442 |0.2500867152271939|\n",
      "|3  |1441 |0.2499132847728061|\n",
      "|2  |1441 |0.2499132847728061|\n",
      "+---+-----+------------------+\n",
      "\n",
      "+---+-----+------------------+\n",
      "|M  |count|Normalize         |\n",
      "+---+-----+------------------+\n",
      "|1  |1442 |0.2500867152271939|\n",
      "|4  |1442 |0.2500867152271939|\n",
      "|3  |1441 |0.2499132847728061|\n",
      "|2  |1441 |0.2499132847728061|\n",
      "+---+-----+------------------+\n",
      "\n",
      "+-------+-----+-------------------+\n",
      "|rfm_seg|count|Normalize          |\n",
      "+-------+-----+-------------------+\n",
      "|444    |585  |0.10145681581685743|\n",
      "|121    |290  |0.05029483177245924|\n",
      "|111    |281  |0.04873395768296913|\n",
      "|344    |257  |0.04457162677766216|\n",
      "|112    |225  |0.03902185223725286|\n",
      "+-------+-----+-------------------+\n",
      "only showing top 5 rows\n",
      "\n",
      "+--------+-----+-------------------+\n",
      "|label   |count|Normalize          |\n",
      "+--------+-----+-------------------+\n",
      "|inactive|1412 |0.24488380159556017|\n",
      "|VIP     |1094 |0.18973291710024281|\n",
      "|active  |1028 |0.17828650711064864|\n",
      "|other   |665  |0.11533125216788068|\n",
      "|new     |609  |0.10561914672216441|\n",
      "+--------+-----+-------------------+\n",
      "only showing top 5 rows\n",
      "\n"
     ]
    }
   ],
   "source": [
    "for col in cat_col:\n",
    "    (df.groupby(col).count()\n",
    "     .withColumn('Normalize',(f.col('count')/df_final.count()))\n",
    "     .orderBy(f.col('count').desc())\n",
    "     .show(5,vertical=False,truncate=False))"
   ]
  },
  {
   "cell_type": "code",
   "execution_count": 18,
   "id": "a6c019d4-cac4-4994-aeb7-a199fbb9d8d3",
   "metadata": {},
   "outputs": [
    {
     "name": "stdout",
     "output_type": "stream",
     "text": [
      "+-------+---------+--------+---+---+---+-------+---------+---------+\n",
      "|recency|frequency|monetary|  R|  F|  M|rfm_seg|rfm_score|    label|\n",
      "+-------+---------+--------+---+---+---+-------+---------+---------+\n",
      "|    325|        1| 77183.6|  1|  1|  4|    114|        6|     rich|\n",
      "|      1|        7|  4310.0|  4|  4|  4|    444|       12|      VIP|\n",
      "|     74|        4| 1797.24|  2|  3|  4|    234|        9|     rich|\n",
      "|     18|        1| 1757.55|  4|  1|  4|    414|        9|    other|\n",
      "|    309|        1|   334.4|  1|  1|  2|    112|        4| inactive|\n",
      "|     35|        8| 2506.04|  3|  4|  4|    344|       11|      VIP|\n",
      "|    203|        1|    89.0|  1|  1|  1|    111|        3| inactive|\n",
      "|    231|        1|  1079.4|  1|  1|  3|    113|        5|    other|\n",
      "|    213|        1|   459.4|  1|  1|  2|    112|        4| inactive|\n",
      "|     22|        3| 2811.43|  4|  3|  4|    434|       11|      VIP|\n",
      "|     32|        1| 6207.67|  3|  1|  4|    314|        8|    other|\n",
      "|      1|        2| 1168.06|  4|  3|  3|    433|       10|potential|\n",
      "|     57|        4| 6372.58|  3|  3|  4|    334|       10|potential|\n",
      "|     51|        3| 2662.06|  3|  3|  4|    334|       10|potential|\n",
      "|    286|        1|   189.9|  1|  1|  1|    111|        3| inactive|\n",
      "|      2|       10| 5226.23|  4|  4|  4|    444|       12|      VIP|\n",
      "|    109|        2|   552.0|  2|  3|  2|    232|        7|   active|\n",
      "|      7|        4|  1313.1|  4|  3|  3|    433|       10|potential|\n",
      "|    290|        2|  641.38|  1|  3|  3|    133|        7|   active|\n",
      "|      3|        1|   168.9|  4|  1|  1|    411|        6|      new|\n",
      "+-------+---------+--------+---+---+---+-------+---------+---------+\n",
      "only showing top 20 rows\n",
      "\n"
     ]
    }
   ],
   "source": [
    "df_final.show()"
   ]
  },
  {
   "cell_type": "markdown",
   "id": "75e91ca7-a92e-4f3a-89b3-793c7db2b21c",
   "metadata": {},
   "source": [
    "## Numeric data"
   ]
  },
  {
   "cell_type": "markdown",
   "id": "ef5071fc-5d67-49a9-8ef9-07f575046278",
   "metadata": {},
   "source": [
    "## Check skewness"
   ]
  },
  {
   "cell_type": "code",
   "execution_count": 19,
   "id": "cdc04182-e3b1-4732-8b52-6566bb3efdd6",
   "metadata": {},
   "outputs": [
    {
     "name": "stdout",
     "output_type": "stream",
     "text": [
      "+------------------+-------------------+------------------+-------------------+\n",
      "| skewness(recency)|skewness(frequency)|skewness(monetary)|skewness(rfm_score)|\n",
      "+------------------+-------------------+------------------+-------------------+\n",
      "|0.8125804966719041| 13.353943773741968|21.428859876655775|0.14789449526230464|\n",
      "+------------------+-------------------+------------------+-------------------+\n",
      "\n"
     ]
    }
   ],
   "source": [
    "df_final.select([f.skewness(c) for c in numeric_col]).show()"
   ]
  },
  {
   "cell_type": "markdown",
   "id": "2803e1b3-9e81-4364-91d1-abd40f5c7281",
   "metadata": {},
   "source": [
    "There is a high skewness => use MinMax scaler"
   ]
  },
  {
   "cell_type": "markdown",
   "id": "067dc057-3415-464c-a8f8-0c2d05066add",
   "metadata": {},
   "source": [
    "## Coeffiecient Correlation "
   ]
  },
  {
   "cell_type": "code",
   "execution_count": 25,
   "id": "f4f9be7f-6655-4d79-b313-bb227d383e90",
   "metadata": {},
   "outputs": [
    {
     "name": "stderr",
     "output_type": "stream",
     "text": [
      "C:\\ProgramData\\Anaconda3\\envs\\env39\\lib\\site-packages\\seaborn\\matrix.py:260: FutureWarning: Format strings passed to MaskedConstant are ignored, but in future may error or produce different behavior\n",
      "  annotation = (\"{:\" + self.fmt + \"}\").format(val)\n"
     ]
    },
    {
     "data": {
      "image/png": "[encoded data removed]",
      "text/plain": [
       "<Figure size 1200x800 with 2 Axes>"
      ]
     },
     "metadata": {},
     "output_type": "display_data"
    }
   ],
   "source": [
    "corr = df_final.select([c for c in df_final.columns if c not in cat_col]).toPandas().select_dtypes('number').corr()\n",
    "mask_ut=np.triu(np.ones(corr.shape)).astype(bool)\n",
    "plt.figure(figsize=(12,8))\n",
    "sns.heatmap(corr,\n",
    "            annot=True,\n",
    "            vmin=-1,center=0,vmax=1,\n",
    "            cmap=sns.diverging_palette(20, 220, n=200),\n",
    "            mask=mask_ut)\n",
    "plt.show()"
   ]
  },
  {
   "cell_type": "markdown",
   "id": "be21a7f3-a761-4a90-8da6-844d45408acc",
   "metadata": {
    "tags": []
   },
   "source": [
    "# Preprocessing"
   ]
  }
 ],
 "metadata": {
  "kernelspec": {
   "display_name": "Python 3 (ipykernel)",
   "language": "python",
   "name": "python3"
  },
  "language_info": {
   "codemirror_mode": {
    "name": "ipython",
    "version": 3
   },
   "file_extension": ".py",
   "mimetype": "text/x-python",
   "name": "python",
   "nbconvert_exporter": "python",
   "pygments_lexer": "ipython3",
   "version": "3.9.18"
  }
 },
 "nbformat": 4,
 "nbformat_minor": 5
}
