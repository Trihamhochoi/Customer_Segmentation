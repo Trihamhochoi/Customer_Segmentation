{
 "cells": [
  {
   "cell_type": "code",
   "execution_count": 1,
   "metadata": {
    "id": "MH-vcvNn1bnE"
   },
   "outputs": [],
   "source": [
    "# !apt update\n",
    "# !apt-get install openjdk-11-jdk-headless -qq > /dev/null\n",
    "# !wget -q http://archive.apache.org/dist/spark/spark-3.3.0/spark-3.3.0-bin-hadoop3.tgz\n",
    "# !tar -xvf spark-3.3.0-bin-hadoop3.tgz\n",
    "# !pip install -q findspark\n",
    "# import os\n",
    "# os.environ[\"JAVA_HOME\"] = \"/usr/lib/jvm/java-11-openjdk-amd64\"\n",
    "# os.environ[\"SPARK_HOME\"] = \"/content/spark-3.3.0-bin-hadoop3\"\n",
    "import findspark\n",
    "findspark.init()"
   ]
  },
  {
   "cell_type": "code",
   "execution_count": null,
   "metadata": {
    "colab": {
     "base_uri": "https://localhost:8080/"
    },
    "id": "cWFs83MV1h4m",
    "outputId": "4014a622-6e42-41ea-8ac9-2089eeb97980"
   },
   "outputs": [
    {
     "name": "stdout",
     "output_type": "stream",
     "text": [
      "Mounted at /content/gdrive\n"
     ]
    }
   ],
   "source": [
    "# from google.colab import drive\n",
    "# drive.mount('/content/gdrive', force_remount=True)"
   ]
  },
  {
   "cell_type": "code",
   "execution_count": null,
   "metadata": {
    "colab": {
     "base_uri": "https://localhost:8080/"
    },
    "id": "s1xTssAA1kKV",
    "outputId": "2ff9e72d-2ad7-4b5d-e2f0-0ee62e21a664"
   },
   "outputs": [
    {
     "name": "stdout",
     "output_type": "stream",
     "text": [
      "/content/gdrive/My Drive/LDS9/Practice/Chapter9\n"
     ]
    }
   ],
   "source": [
    "#%cd '/content/gdrive/My Drive/LDS9/Practice/Chapter9/'"
   ]
  },
  {
   "cell_type": "markdown",
   "metadata": {
    "id": "ktHQbIGV1mHd"
   },
   "source": [
    "# Demo KMeans Clustering"
   ]
  },
  {
   "cell_type": "code",
   "execution_count": 2,
   "metadata": {
    "id": "ciqzaxLt1qGc"
   },
   "outputs": [],
   "source": [
    "import pyspark"
   ]
  },
  {
   "cell_type": "code",
   "execution_count": 3,
   "metadata": {
    "id": "bIBfZUML1sOc"
   },
   "outputs": [],
   "source": [
    "from pyspark.sql import SparkSession"
   ]
  },
  {
   "cell_type": "code",
   "execution_count": 4,
   "metadata": {
    "id": "0ZC-tfnV1uLl"
   },
   "outputs": [],
   "source": [
    "spark = SparkSession.builder.appName('kmeans_demo').getOrCreate()"
   ]
  },
  {
   "cell_type": "code",
   "execution_count": 5,
   "metadata": {
    "id": "XuTycWP91wYV"
   },
   "outputs": [],
   "source": [
    "# Loads data.\n",
    "data = spark.read.csv(\"5000_points.txt\", header=False,\n",
    "                      inferSchema=True, sep=\"\\t\")"
   ]
  },
  {
   "cell_type": "code",
   "execution_count": 6,
   "metadata": {
    "colab": {
     "base_uri": "https://localhost:8080/"
    },
    "id": "8qopQ7Td1ye9",
    "outputId": "b60cf75f-4665-4bc7-da9e-537596b4e409"
   },
   "outputs": [
    {
     "name": "stdout",
     "output_type": "stream",
     "text": [
      "+------+------+\n",
      "|   _c0|   _c1|\n",
      "+------+------+\n",
      "|664159|550946|\n",
      "|665845|557965|\n",
      "|597173|575538|\n",
      "+------+------+\n",
      "only showing top 3 rows\n",
      "\n"
     ]
    }
   ],
   "source": [
    "data.show(3)"
   ]
  },
  {
   "cell_type": "code",
   "execution_count": 34,
   "metadata": {
    "id": "3lXZ6FFeEIXi"
   },
   "outputs": [],
   "source": [
    "import pyspark.sql.functions as f\n",
    "from pyspark.ml.linalg import Vectors\n",
    "import pyspark.ml.feature as feat\n",
    "from pyspark.ml.clustering import KMeans\n",
    "from pyspark.ml.evaluation import ClusteringEvaluator\n",
    "import matplotlib.pyplot as plt \n",
    "import seaborn as sns\n",
    "import numpy as np\n",
    "import pandas as pd"
   ]
  },
  {
   "cell_type": "code",
   "execution_count": 9,
   "metadata": {
    "id": "Ov_cIElv12yV"
   },
   "outputs": [],
   "source": [
    "data = data.select(f.col(\"_c0\").alias(\"x\"), f.col(\"_c1\").alias(\"y\"))"
   ]
  },
  {
   "cell_type": "code",
   "execution_count": 10,
   "metadata": {
    "colab": {
     "base_uri": "https://localhost:8080/"
    },
    "id": "3q03RHzg13Ul",
    "outputId": "b532862d-e5c6-45fb-8148-2ab790189a82"
   },
   "outputs": [
    {
     "name": "stdout",
     "output_type": "stream",
     "text": [
      "+------+------+\n",
      "|     x|     y|\n",
      "+------+------+\n",
      "|664159|550946|\n",
      "|665845|557965|\n",
      "|597173|575538|\n",
      "+------+------+\n",
      "only showing top 3 rows\n",
      "\n"
     ]
    }
   ],
   "source": [
    "data.show(3)"
   ]
  },
  {
   "cell_type": "code",
   "execution_count": 90,
   "metadata": {},
   "outputs": [],
   "source": [
    "final_data = feat.VectorAssembler(inputCols=data.columns,\n",
    "                                  outputCol='features').transform(data)"
   ]
  },
  {
   "cell_type": "code",
   "execution_count": 91,
   "metadata": {},
   "outputs": [
    {
     "name": "stdout",
     "output_type": "stream",
     "text": [
      "+------+------+-------------------+\n",
      "|     x|     y|           features|\n",
      "+------+------+-------------------+\n",
      "|664159|550946|[664159.0,550946.0]|\n",
      "+------+------+-------------------+\n",
      "only showing top 1 row\n",
      "\n"
     ]
    }
   ],
   "source": [
    "final_data.show(1)"
   ]
  },
  {
   "cell_type": "code",
   "execution_count": 92,
   "metadata": {},
   "outputs": [],
   "source": [
    "scaler_model = feat.StandardScaler(inputCol='features', \n",
    "                    withStd=True, \n",
    "                    withMean=False, \n",
    "                    outputCol='scale').fit(final_data)"
   ]
  },
  {
   "cell_type": "code",
   "execution_count": 93,
   "metadata": {},
   "outputs": [],
   "source": [
    "final_data = scaler_model.transform(final_data)"
   ]
  },
  {
   "cell_type": "code",
   "execution_count": 94,
   "metadata": {},
   "outputs": [
    {
     "name": "stdout",
     "output_type": "stream",
     "text": [
      "+------+------+-------------------+---------------------------------------+\n",
      "|x     |y     |features           |scale                                  |\n",
      "+------+------+-------------------+---------------------------------------+\n",
      "|664159|550946|[664159.0,550946.0]|[2.716775610700365,2.336092297255214]  |\n",
      "|665845|557965|[665845.0,557965.0]|[2.7236722780340017,2.3658538924649704]|\n",
      "|597173|575538|[597173.0,575538.0]|[2.4427660270639544,2.440366004250274] |\n",
      "+------+------+-------------------+---------------------------------------+\n",
      "only showing top 3 rows\n",
      "\n"
     ]
    }
   ],
   "source": [
    "final_data.show(3,False)"
   ]
  },
  {
   "cell_type": "code",
   "execution_count": 16,
   "metadata": {},
   "outputs": [
    {
     "name": "stdout",
     "output_type": "stream",
     "text": [
      "With k = 2 - Silhouette = 0.4808556198158036\n",
      "\n",
      "With k = 3 - Silhouette = 0.554174536585784\n",
      "\n",
      "With k = 4 - Silhouette = 0.614662491276157\n",
      "\n",
      "With k = 5 - Silhouette = 0.6172494269388334\n",
      "\n",
      "With k = 6 - Silhouette = 0.6567390509816632\n",
      "\n",
      "With k = 7 - Silhouette = 0.6156233224840827\n",
      "\n",
      "With k = 8 - Silhouette = 0.6547243220736432\n",
      "\n",
      "With k = 9 - Silhouette = 0.6886650332686685\n",
      "\n",
      "With k = 10 - Silhouette = 0.7539451853469071\n",
      "\n"
     ]
    }
   ],
   "source": [
    "# trains a k-means model\n",
    "k_list = []\n",
    "silhouette_ls = list()\n",
    "sil_str = ''\n",
    "\n",
    "for k in range(2,11):\n",
    "    kmeans_model = KMeans(featuresCol='scale',\n",
    "                          k=k).fit(final_data)\n",
    "    k_list.append(k)\n",
    "    \n",
    "    # silhoutte\n",
    "    pred = kmeans_model.transform(final_data)\n",
    "    \n",
    "    # evaluate clustering by computting sil score\n",
    "    eval_ = ClusteringEvaluator()\n",
    "    sil = eval_.evaluate(pred)\n",
    "    silhouette_ls.append(sil)\n",
    "    \n",
    "    print(f'With k = {k} - Silhouette = {sil}\\n')\n",
    "    \n"
   ]
  },
  {
   "cell_type": "code",
   "execution_count": 18,
   "metadata": {},
   "outputs": [
    {
     "data": {
      "image/png": "[encoded data removed]",
      "text/plain": [
       "<Figure size 640x480 with 1 Axes>"
      ]
     },
     "metadata": {},
     "output_type": "display_data"
    }
   ],
   "source": [
    "plt.plot(k_list,silhouette_ls)\n",
    "plt.show()"
   ]
  },
  {
   "cell_type": "code",
   "execution_count": 117,
   "metadata": {},
   "outputs": [],
   "source": [
    "kmeans_model = KMeans(featuresCol='scale',\n",
    "                          k=9).fit(final_data)\n",
    "    \n",
    "# silhoutte\n",
    "pred = kmeans_model.transform(final_data)"
   ]
  },
  {
   "cell_type": "code",
   "execution_count": 21,
   "metadata": {},
   "outputs": [
    {
     "name": "stdout",
     "output_type": "stream",
     "text": [
      "Silhoutte = 0.6886650332686685\n"
     ]
    }
   ],
   "source": [
    "evaluator = ClusteringEvaluator().evaluate(pred)\n",
    "print(f'Silhoutte = {evaluator}')"
   ]
  },
  {
   "cell_type": "code",
   "execution_count": 22,
   "metadata": {},
   "outputs": [
    {
     "data": {
      "text/plain": [
       "[array([2.23426443, 1.93910163]),\n",
       " array([1.00077305, 3.59412727]),\n",
       " array([3.3551708 , 3.09141176]),\n",
       " array([2.74371987, 3.65594142]),\n",
       " array([3.3833207 , 1.00022068]),\n",
       " array([1.69737985, 0.72534396]),\n",
       " array([1.70658457, 3.29747591]),\n",
       " array([3.49707086, 2.30655205]),\n",
       " array([0.88721777, 2.04459551])]"
      ]
     },
     "execution_count": 22,
     "metadata": {},
     "output_type": "execute_result"
    }
   ],
   "source": [
    "centers = kmeans_model.clusterCenters()\n",
    "centers"
   ]
  },
  {
   "cell_type": "code",
   "execution_count": 24,
   "metadata": {},
   "outputs": [
    {
     "name": "stdout",
     "output_type": "stream",
     "text": [
      "+------+------+-------------------+--------------------+----------+\n",
      "|     x|     y|           features|               scale|prediction|\n",
      "+------+------+-------------------+--------------------+----------+\n",
      "|664159|550946|[664159.0,550946.0]|[2.71677561070036...|         0|\n",
      "|665845|557965|[665845.0,557965.0]|[2.72367227803400...|         0|\n",
      "|597173|575538|[597173.0,575538.0]|[2.44276602706395...|         0|\n",
      "|618600|551446|[618600.0,551446.0]|[2.53041424234143...|         0|\n",
      "|635690|608046|[635690.0,608046.0]|[2.60032174218239...|         0|\n",
      "+------+------+-------------------+--------------------+----------+\n",
      "only showing top 5 rows\n",
      "\n"
     ]
    }
   ],
   "source": [
    "pred.show(5)"
   ]
  },
  {
   "cell_type": "code",
   "execution_count": 25,
   "metadata": {},
   "outputs": [
    {
     "name": "stdout",
     "output_type": "stream",
     "text": [
      "+----------+-----+\n",
      "|prediction|count|\n",
      "+----------+-----+\n",
      "|         1|  341|\n",
      "|         6|  331|\n",
      "|         3|  353|\n",
      "|         5|  701|\n",
      "|         4|  635|\n",
      "|         8| 1042|\n",
      "|         7|  365|\n",
      "|         2|  326|\n",
      "|         0|  906|\n",
      "+----------+-----+\n",
      "\n"
     ]
    }
   ],
   "source": [
    "pred.groupby('prediction').count().show()"
   ]
  },
  {
   "cell_type": "code",
   "execution_count": 95,
   "metadata": {},
   "outputs": [
    {
     "name": "stdout",
     "output_type": "stream",
     "text": [
      "+------+------+-------------------+--------------------+\n",
      "|     x|     y|           features|               scale|\n",
      "+------+------+-------------------+--------------------+\n",
      "|664159|550946|[664159.0,550946.0]|[2.71677561070036...|\n",
      "|665845|557965|[665845.0,557965.0]|[2.72367227803400...|\n",
      "+------+------+-------------------+--------------------+\n",
      "only showing top 2 rows\n",
      "\n"
     ]
    }
   ],
   "source": [
    "final_data.show(2)"
   ]
  },
  {
   "cell_type": "code",
   "execution_count": 96,
   "metadata": {},
   "outputs": [],
   "source": [
    "temp = final_data.select('scale').toPandas()"
   ]
  },
  {
   "cell_type": "code",
   "execution_count": 97,
   "metadata": {},
   "outputs": [],
   "source": [
    "temp['x1'] =  temp.scale.apply(lambda x: x[0])"
   ]
  },
  {
   "cell_type": "code",
   "execution_count": 98,
   "metadata": {},
   "outputs": [],
   "source": [
    "temp['x2'] = temp.scale.apply(lambda x: x[1])"
   ]
  },
  {
   "cell_type": "code",
   "execution_count": 99,
   "metadata": {},
   "outputs": [],
   "source": [
    "split_data = spark.createDataFrame(data=temp[['x1','x2']])"
   ]
  },
  {
   "cell_type": "code",
   "execution_count": 100,
   "metadata": {},
   "outputs": [
    {
     "data": {
      "text/plain": [
       "5000"
      ]
     },
     "execution_count": 100,
     "metadata": {},
     "output_type": "execute_result"
    }
   ],
   "source": [
    "split_data.count()"
   ]
  },
  {
   "cell_type": "code",
   "execution_count": 101,
   "metadata": {},
   "outputs": [],
   "source": [
    "split_data=split_data.withColumn('row_index', f.monotonically_increasing_id())\n",
    "final_data=final_data.withColumn('row_index', f.monotonically_increasing_id())"
   ]
  },
  {
   "cell_type": "code",
   "execution_count": 102,
   "metadata": {},
   "outputs": [
    {
     "name": "stdout",
     "output_type": "stream",
     "text": [
      "+------+------+-------------------+--------------------+---------+\n",
      "|     x|     y|           features|               scale|row_index|\n",
      "+------+------+-------------------+--------------------+---------+\n",
      "|664159|550946|[664159.0,550946.0]|[2.71677561070036...|        0|\n",
      "|665845|557965|[665845.0,557965.0]|[2.72367227803400...|        1|\n",
      "|597173|575538|[597173.0,575538.0]|[2.44276602706395...|        2|\n",
      "|618600|551446|[618600.0,551446.0]|[2.53041424234143...|        3|\n",
      "|635690|608046|[635690.0,608046.0]|[2.60032174218239...|        4|\n",
      "+------+------+-------------------+--------------------+---------+\n",
      "only showing top 5 rows\n",
      "\n"
     ]
    }
   ],
   "source": [
    "final_data.show(5)"
   ]
  },
  {
   "cell_type": "code",
   "execution_count": 108,
   "metadata": {},
   "outputs": [
    {
     "data": {
      "text/plain": [
       "5000"
      ]
     },
     "execution_count": 108,
     "metadata": {},
     "output_type": "execute_result"
    }
   ],
   "source": [
    "final_data[['row_index']].distinct().count()"
   ]
  },
  {
   "cell_type": "code",
   "execution_count": 110,
   "metadata": {},
   "outputs": [],
   "source": [
    "temp = final_data.join(split_data, on=[\"row_index\"],how='leftouter')"
   ]
  },
  {
   "cell_type": "code",
   "execution_count": 111,
   "metadata": {},
   "outputs": [
    {
     "name": "stdout",
     "output_type": "stream",
     "text": [
      "+---------+------+------+-------------------+--------------------+------------------+------------------+\n",
      "|row_index|     x|     y|           features|               scale|                x1|                x2|\n",
      "+---------+------+------+-------------------+--------------------+------------------+------------------+\n",
      "|        0|664159|550946|[664159.0,550946.0]|[2.71677561070036...| 2.716775610700365| 2.336092297255214|\n",
      "|        1|665845|557965|[665845.0,557965.0]|[2.72367227803400...|2.7236722780340017|2.3658538924649704|\n",
      "|        2|597173|575538|[597173.0,575538.0]|[2.44276602706395...|2.4427660270639544| 2.440366004250274|\n",
      "|        3|618600|551446|[618600.0,551446.0]|[2.53041424234143...|2.5304142423414357|2.3382123709986073|\n",
      "|        4|635690|608046|[635690.0,608046.0]|[2.60032174218239...|2.6003217421823916|2.5782047187507375|\n",
      "+---------+------+------+-------------------+--------------------+------------------+------------------+\n",
      "only showing top 5 rows\n",
      "\n"
     ]
    }
   ],
   "source": [
    "temp.show(5)"
   ]
  },
  {
   "cell_type": "code",
   "execution_count": 112,
   "metadata": {},
   "outputs": [],
   "source": [
    "temp = temp.select(f.col(\"x1\").alias(\"x_scale\"), f.col(\"x2\").alias(\"y_scale\"))"
   ]
  },
  {
   "cell_type": "code",
   "execution_count": 113,
   "metadata": {},
   "outputs": [
    {
     "data": {
      "text/plain": [
       "5000"
      ]
     },
     "execution_count": 113,
     "metadata": {},
     "output_type": "execute_result"
    }
   ],
   "source": [
    "temp.count()"
   ]
  },
  {
   "cell_type": "code",
   "execution_count": 114,
   "metadata": {},
   "outputs": [],
   "source": [
    "pred=pred.withColumn('row_index', f.monotonically_increasing_id())\n",
    "temp=temp.withColumn('row_index', f.monotonically_increasing_id())\n",
    "#pred = pred.join(temp, on=[\"row_index\"]).sort(\"row_index\")"
   ]
  },
  {
   "cell_type": "code",
   "execution_count": 119,
   "metadata": {},
   "outputs": [
    {
     "name": "stdout",
     "output_type": "stream",
     "text": [
      "+------+------+-------------------+--------------------+---------+----------+\n",
      "|     x|     y|           features|               scale|row_index|prediction|\n",
      "+------+------+-------------------+--------------------+---------+----------+\n",
      "|664159|550946|[664159.0,550946.0]|[2.71677561070036...|        0|         0|\n",
      "|665845|557965|[665845.0,557965.0]|[2.72367227803400...|        1|         0|\n",
      "|597173|575538|[597173.0,575538.0]|[2.44276602706395...|        2|         0|\n",
      "|618600|551446|[618600.0,551446.0]|[2.53041424234143...|        3|         0|\n",
      "|635690|608046|[635690.0,608046.0]|[2.60032174218239...|        4|         0|\n",
      "+------+------+-------------------+--------------------+---------+----------+\n",
      "only showing top 5 rows\n",
      "\n"
     ]
    }
   ],
   "source": [
    "pred.show(5)"
   ]
  },
  {
   "cell_type": "code",
   "execution_count": 120,
   "metadata": {},
   "outputs": [
    {
     "name": "stdout",
     "output_type": "stream",
     "text": [
      "+------------------+------------------+---------+\n",
      "|           x_scale|           y_scale|row_index|\n",
      "+------------------+------------------+---------+\n",
      "|2.3017688584262777|2.4194111953705737|        0|\n",
      "|2.3268030245483753|2.4177448174082663|        1|\n",
      "|              null|              null|        2|\n",
      "|              null|              null|        3|\n",
      "|              null|              null|        4|\n",
      "+------------------+------------------+---------+\n",
      "only showing top 5 rows\n",
      "\n"
     ]
    }
   ],
   "source": [
    "temp.show(5)"
   ]
  },
  {
   "cell_type": "code",
   "execution_count": 116,
   "metadata": {},
   "outputs": [
    {
     "name": "stdout",
     "output_type": "stream",
     "text": [
      "+---------+------+------+-------------------+--------------------+----------+-----------------+-----------------+------------------+------------------+\n",
      "|row_index|     x|     y|           features|               scale|prediction|          x_scale|          y_scale|           x_scale|           y_scale|\n",
      "+---------+------+------+-------------------+--------------------+----------+-----------------+-----------------+------------------+------------------+\n",
      "|        0|664159|550946|[664159.0,550946.0]|[2.71677561070036...|         0|2.716775610700365|2.336092297255214|2.3017688584262777|2.4194111953705737|\n",
      "|        1|665845|557965|[665845.0,557965.0]|[2.72367227803400...|         0|2.716775610700365|2.336092297255214|2.3268030245483753|2.4177448174082663|\n",
      "|        2|597173|575538|[597173.0,575538.0]|[2.44276602706395...|         0|2.716775610700365|2.336092297255214|              null|              null|\n",
      "|        3|618600|551446|[618600.0,551446.0]|[2.53041424234143...|         0|2.716775610700365|2.336092297255214|              null|              null|\n",
      "|        4|635690|608046|[635690.0,608046.0]|[2.60032174218239...|         0|2.716775610700365|2.336092297255214|              null|              null|\n",
      "|        5|588100|557588|[588100.0,557588.0]|[2.40565246673294...|         0|2.716775610700365|2.336092297255214|              null|              null|\n",
      "|        6|582015|546191|[582015.0,546191.0]|[2.38076146986154...|         0|2.716775610700365|2.336092297255214|              null|              null|\n",
      "|        7|604678|574577|[604678.0,574577.0]|[2.47346560496368...|         0|2.716775610700365|2.336092297255214|              null|              null|\n",
      "|        8|572029|518313|[572029.0,518313.0]|[2.33991323736231...|         0|2.716775610700365|2.336092297255214|              null|              null|\n",
      "|        9|604737|574591|[604737.0,574591.0]|[2.47370694741486...|         0|2.716775610700365|2.336092297255214|              null|              null|\n",
      "|       10|577728|587566|[577728.0,587566.0]|[2.36322528192601...|         0|2.716775610700365|2.336092297255214|              null|              null|\n",
      "|       11|602013|574722|[602013.0,574722.0]|[2.46256428916051...|         0|2.716775610700365|2.336092297255214|              null|              null|\n",
      "|       12|627968|574625|[627968.0,574625.0]|[2.56873451492833...|         0|2.716775610700365|2.336092297255214|              null|              null|\n",
      "|       13|607269|536961|[607269.0,536961.0]|[2.48406422006537...|         0|2.716775610700365|2.336092297255214|              null|              null|\n",
      "|       14|603145|574795|[603145.0,574795.0]|[2.46719479178309...|         0|2.716775610700365|2.336092297255214|              null|              null|\n",
      "|       15|671919|571761|[671919.0,571761.0]|[2.74851827885518...|         0|2.716775610700365|2.336092297255214|              null|              null|\n",
      "|       16|612184|570393|[612184.0,570393.0]|[2.50416927341343...|         0|2.716775610700365|2.336092297255214|              null|              null|\n",
      "|       17|600032|575310|[600032.0,575310.0]|[2.45446090957099...|         0|2.716775610700365|2.336092297255214|              null|              null|\n",
      "|       18|627912|593892|[627912.0,593892.0]|[2.56850544412721...|         0|2.716775610700365|2.336092297255214|              null|              null|\n",
      "|       19|601967|604428|[601967.0,604428.0]|[2.46237612385959...|         0|2.716775610700365|2.336092297255214|              null|              null|\n",
      "+---------+------+------+-------------------+--------------------+----------+-----------------+-----------------+------------------+------------------+\n",
      "only showing top 20 rows\n",
      "\n"
     ]
    }
   ],
   "source": [
    "pred.show()"
   ]
  },
  {
   "cell_type": "code",
   "execution_count": 115,
   "metadata": {},
   "outputs": [
    {
     "ename": "AnalysisException",
     "evalue": "Reference 'x_scale' is ambiguous, could be: x_scale, x_scale.",
     "output_type": "error",
     "traceback": [
      "\u001b[1;31m---------------------------------------------------------------------------\u001b[0m",
      "\u001b[1;31mAnalysisException\u001b[0m                         Traceback (most recent call last)",
      "\u001b[1;32m~\\AppData\\Local\\Temp\\ipykernel_13332\\75433054.py\u001b[0m in \u001b[0;36m<module>\u001b[1;34m\u001b[0m\n\u001b[1;32m----> 1\u001b[1;33m \u001b[0mvisual\u001b[0m \u001b[1;33m=\u001b[0m \u001b[0mpred\u001b[0m\u001b[1;33m[\u001b[0m\u001b[1;33m[\u001b[0m\u001b[1;34m'x_scale'\u001b[0m\u001b[1;33m,\u001b[0m\u001b[1;34m'y_scale'\u001b[0m\u001b[1;33m,\u001b[0m\u001b[1;34m'prediction'\u001b[0m\u001b[1;33m]\u001b[0m\u001b[1;33m]\u001b[0m\u001b[1;33m.\u001b[0m\u001b[0mtoPandas\u001b[0m\u001b[1;33m(\u001b[0m\u001b[1;33m)\u001b[0m\u001b[1;33m\u001b[0m\u001b[1;33m\u001b[0m\u001b[0m\n\u001b[0m",
      "\u001b[1;32mD:\\PySpark\\spark-3.3.2-bin-hadoop3\\python\\pyspark\\sql\\dataframe.py\u001b[0m in \u001b[0;36m__getitem__\u001b[1;34m(self, item)\u001b[0m\n\u001b[0;32m   1968\u001b[0m             \u001b[1;32mreturn\u001b[0m \u001b[0mself\u001b[0m\u001b[1;33m.\u001b[0m\u001b[0mfilter\u001b[0m\u001b[1;33m(\u001b[0m\u001b[0mitem\u001b[0m\u001b[1;33m)\u001b[0m\u001b[1;33m\u001b[0m\u001b[1;33m\u001b[0m\u001b[0m\n\u001b[0;32m   1969\u001b[0m         \u001b[1;32melif\u001b[0m \u001b[0misinstance\u001b[0m\u001b[1;33m(\u001b[0m\u001b[0mitem\u001b[0m\u001b[1;33m,\u001b[0m \u001b[1;33m(\u001b[0m\u001b[0mlist\u001b[0m\u001b[1;33m,\u001b[0m \u001b[0mtuple\u001b[0m\u001b[1;33m)\u001b[0m\u001b[1;33m)\u001b[0m\u001b[1;33m:\u001b[0m\u001b[1;33m\u001b[0m\u001b[1;33m\u001b[0m\u001b[0m\n\u001b[1;32m-> 1970\u001b[1;33m             \u001b[1;32mreturn\u001b[0m \u001b[0mself\u001b[0m\u001b[1;33m.\u001b[0m\u001b[0mselect\u001b[0m\u001b[1;33m(\u001b[0m\u001b[1;33m*\u001b[0m\u001b[0mitem\u001b[0m\u001b[1;33m)\u001b[0m\u001b[1;33m\u001b[0m\u001b[1;33m\u001b[0m\u001b[0m\n\u001b[0m\u001b[0;32m   1971\u001b[0m         \u001b[1;32melif\u001b[0m \u001b[0misinstance\u001b[0m\u001b[1;33m(\u001b[0m\u001b[0mitem\u001b[0m\u001b[1;33m,\u001b[0m \u001b[0mint\u001b[0m\u001b[1;33m)\u001b[0m\u001b[1;33m:\u001b[0m\u001b[1;33m\u001b[0m\u001b[1;33m\u001b[0m\u001b[0m\n\u001b[0;32m   1972\u001b[0m             \u001b[0mjc\u001b[0m \u001b[1;33m=\u001b[0m \u001b[0mself\u001b[0m\u001b[1;33m.\u001b[0m\u001b[0m_jdf\u001b[0m\u001b[1;33m.\u001b[0m\u001b[0mapply\u001b[0m\u001b[1;33m(\u001b[0m\u001b[0mself\u001b[0m\u001b[1;33m.\u001b[0m\u001b[0mcolumns\u001b[0m\u001b[1;33m[\u001b[0m\u001b[0mitem\u001b[0m\u001b[1;33m]\u001b[0m\u001b[1;33m)\u001b[0m\u001b[1;33m\u001b[0m\u001b[1;33m\u001b[0m\u001b[0m\n",
      "\u001b[1;32mD:\\PySpark\\spark-3.3.2-bin-hadoop3\\python\\pyspark\\sql\\dataframe.py\u001b[0m in \u001b[0;36mselect\u001b[1;34m(self, *cols)\u001b[0m\n\u001b[0;32m   2021\u001b[0m         \u001b[1;33m[\u001b[0m\u001b[0mRow\u001b[0m\u001b[1;33m(\u001b[0m\u001b[0mname\u001b[0m\u001b[1;33m=\u001b[0m\u001b[1;34m'Alice'\u001b[0m\u001b[1;33m,\u001b[0m \u001b[0mage\u001b[0m\u001b[1;33m=\u001b[0m\u001b[1;36m12\u001b[0m\u001b[1;33m)\u001b[0m\u001b[1;33m,\u001b[0m \u001b[0mRow\u001b[0m\u001b[1;33m(\u001b[0m\u001b[0mname\u001b[0m\u001b[1;33m=\u001b[0m\u001b[1;34m'Bob'\u001b[0m\u001b[1;33m,\u001b[0m \u001b[0mage\u001b[0m\u001b[1;33m=\u001b[0m\u001b[1;36m15\u001b[0m\u001b[1;33m)\u001b[0m\u001b[1;33m]\u001b[0m\u001b[1;33m\u001b[0m\u001b[1;33m\u001b[0m\u001b[0m\n\u001b[0;32m   2022\u001b[0m         \"\"\"\n\u001b[1;32m-> 2023\u001b[1;33m         \u001b[0mjdf\u001b[0m \u001b[1;33m=\u001b[0m \u001b[0mself\u001b[0m\u001b[1;33m.\u001b[0m\u001b[0m_jdf\u001b[0m\u001b[1;33m.\u001b[0m\u001b[0mselect\u001b[0m\u001b[1;33m(\u001b[0m\u001b[0mself\u001b[0m\u001b[1;33m.\u001b[0m\u001b[0m_jcols\u001b[0m\u001b[1;33m(\u001b[0m\u001b[1;33m*\u001b[0m\u001b[0mcols\u001b[0m\u001b[1;33m)\u001b[0m\u001b[1;33m)\u001b[0m\u001b[1;33m\u001b[0m\u001b[1;33m\u001b[0m\u001b[0m\n\u001b[0m\u001b[0;32m   2024\u001b[0m         \u001b[1;32mreturn\u001b[0m \u001b[0mDataFrame\u001b[0m\u001b[1;33m(\u001b[0m\u001b[0mjdf\u001b[0m\u001b[1;33m,\u001b[0m \u001b[0mself\u001b[0m\u001b[1;33m.\u001b[0m\u001b[0msparkSession\u001b[0m\u001b[1;33m)\u001b[0m\u001b[1;33m\u001b[0m\u001b[1;33m\u001b[0m\u001b[0m\n\u001b[0;32m   2025\u001b[0m \u001b[1;33m\u001b[0m\u001b[0m\n",
      "\u001b[1;32mD:\\PySpark\\spark-3.3.2-bin-hadoop3\\python\\lib\\py4j-0.10.9.5-src.zip\\py4j\\java_gateway.py\u001b[0m in \u001b[0;36m__call__\u001b[1;34m(self, *args)\u001b[0m\n\u001b[0;32m   1319\u001b[0m \u001b[1;33m\u001b[0m\u001b[0m\n\u001b[0;32m   1320\u001b[0m         \u001b[0manswer\u001b[0m \u001b[1;33m=\u001b[0m \u001b[0mself\u001b[0m\u001b[1;33m.\u001b[0m\u001b[0mgateway_client\u001b[0m\u001b[1;33m.\u001b[0m\u001b[0msend_command\u001b[0m\u001b[1;33m(\u001b[0m\u001b[0mcommand\u001b[0m\u001b[1;33m)\u001b[0m\u001b[1;33m\u001b[0m\u001b[1;33m\u001b[0m\u001b[0m\n\u001b[1;32m-> 1321\u001b[1;33m         return_value = get_return_value(\n\u001b[0m\u001b[0;32m   1322\u001b[0m             answer, self.gateway_client, self.target_id, self.name)\n\u001b[0;32m   1323\u001b[0m \u001b[1;33m\u001b[0m\u001b[0m\n",
      "\u001b[1;32mD:\\PySpark\\spark-3.3.2-bin-hadoop3\\python\\pyspark\\sql\\utils.py\u001b[0m in \u001b[0;36mdeco\u001b[1;34m(*a, **kw)\u001b[0m\n\u001b[0;32m    194\u001b[0m                 \u001b[1;31m# Hide where the exception came from that shows a non-Pythonic\u001b[0m\u001b[1;33m\u001b[0m\u001b[1;33m\u001b[0m\u001b[0m\n\u001b[0;32m    195\u001b[0m                 \u001b[1;31m# JVM exception message.\u001b[0m\u001b[1;33m\u001b[0m\u001b[1;33m\u001b[0m\u001b[0m\n\u001b[1;32m--> 196\u001b[1;33m                 \u001b[1;32mraise\u001b[0m \u001b[0mconverted\u001b[0m \u001b[1;32mfrom\u001b[0m \u001b[1;32mNone\u001b[0m\u001b[1;33m\u001b[0m\u001b[1;33m\u001b[0m\u001b[0m\n\u001b[0m\u001b[0;32m    197\u001b[0m             \u001b[1;32melse\u001b[0m\u001b[1;33m:\u001b[0m\u001b[1;33m\u001b[0m\u001b[1;33m\u001b[0m\u001b[0m\n\u001b[0;32m    198\u001b[0m                 \u001b[1;32mraise\u001b[0m\u001b[1;33m\u001b[0m\u001b[1;33m\u001b[0m\u001b[0m\n",
      "\u001b[1;31mAnalysisException\u001b[0m: Reference 'x_scale' is ambiguous, could be: x_scale, x_scale."
     ]
    }
   ],
   "source": [
    "visual = pred[['x_scale','y_scale','prediction']].toPandas()"
   ]
  }
 ],
 "metadata": {
  "colab": {
   "provenance": []
  },
  "kernelspec": {
   "display_name": "Python 3 (ipykernel)",
   "language": "python",
   "name": "python3"
  },
  "language_info": {
   "codemirror_mode": {
    "name": "ipython",
    "version": 3
   },
   "file_extension": ".py",
   "mimetype": "text/x-python",
   "name": "python",
   "nbconvert_exporter": "python",
   "pygments_lexer": "ipython3",
   "version": "3.9.18"
  }
 },
 "nbformat": 4,
 "nbformat_minor": 4
}
