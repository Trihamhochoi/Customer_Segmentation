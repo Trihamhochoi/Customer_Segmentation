{
 "cells": [
  {
   "cell_type": "code",
   "execution_count": 2,
   "id": "f156b464-4600-4022-a0e2-973835be22f7",
   "metadata": {
    "id": "c0JvcgTY_23t",
    "tags": []
   },
   "outputs": [],
   "source": [
    "import findspark\n",
    "findspark.init()"
   ]
  },
  {
   "cell_type": "code",
   "execution_count": 2,
   "id": "a0615c91-8032-42c5-972d-a1514256f6a1",
   "metadata": {
    "colab": {
     "base_uri": "https://localhost:8080/"
    },
    "id": "dumPUEuh_-nY",
    "outputId": "e36bcd58-0d12-4ff0-f6d9-320c8b0f7be6"
   },
   "outputs": [],
   "source": [
    "# from google.colab import drive\n",
    "# drive.mount('/content/gdrive', force_remount=True)"
   ]
  },
  {
   "cell_type": "code",
   "execution_count": 3,
   "id": "870e815a-32c9-4fcc-b458-4ec8b1f9aa1a",
   "metadata": {
    "colab": {
     "base_uri": "https://localhost:8080/"
    },
    "id": "RH0SEBw0ABPH",
    "outputId": "6149f3ea-d487-4a86-ea61-f1a64e90e521"
   },
   "outputs": [],
   "source": [
    "# %cd '/content/gdrive/My Drive/LDS9/Practice/Chapter5/'"
   ]
  },
  {
   "cell_type": "code",
   "execution_count": 3,
   "id": "fe6c9197-f38d-472b-876c-b7e8688d6d03",
   "metadata": {
    "id": "sMEWXllEAD3X"
   },
   "outputs": [],
   "source": [
    "# import libraries\n",
    "from pyspark import SparkContext\n",
    "from pyspark.conf import SparkConf\n",
    "from pyspark.sql import SparkSession\n",
    "import matplotlib.pyplot as plt\n",
    "import seaborn as sns\n",
    "from scipy import stats\n",
    "from datetime import datetime\n",
    "from pyspark.sql import Row\n",
    "import pyspark.sql.functions as f\n",
    "\n",
    "import pyspark.sql.types as t\n",
    "\n",
    "import pyspark.ml.feature as feat\n",
    "\n",
    "import numpy as np\n",
    "import pandas as pd\n",
    "\n",
    "# Pipeline\n",
    "from pyspark.ml import Pipeline, PipelineModel\n",
    "\n",
    "# Machine learning\n",
    "from pyspark.ml.linalg import Vectors\n",
    "from pyspark.ml.clustering import KMeans\n",
    "from pyspark.ml.evaluation import ClusteringEvaluator\n",
    "\n",
    "# Cross validation \n",
    "from pyspark.ml.tuning import ParamGridBuilder, CrossValidator\n"
   ]
  },
  {
   "cell_type": "code",
   "execution_count": 5,
   "id": "5881e1c1-835b-4187-8f6d-c8856baad8bc",
   "metadata": {},
   "outputs": [],
   "source": [
    "# import os\n",
    "# import sys\n",
    "\n",
    "# os.environ['PYSPARK_PYTHON'] = sys.executable\n",
    "# os.environ['PYSPARK_DRIVER_PYTHON'] = sys.executable"
   ]
  },
  {
   "cell_type": "markdown",
   "id": "7d700b8c-e3bc-4dd9-bdb6-c4ecf9da0c60",
   "metadata": {},
   "source": [
    "# About Dataset\n",
    "Build a clustering model to cluster the movies in tmdb_5000_movies.csv dataset.\n",
    "\n",
    "Explain the main characteristics of each cluster. Use Word Cloud to visualize each\n",
    "cluster.\n",
    "\n",
    "**(Hint: Use some features such as 'title', 'tagline', 'overview', 'popularity'…)**\n"
   ]
  },
  {
   "cell_type": "code",
   "execution_count": 4,
   "id": "cda6533d-a4ff-4487-a8b3-29d67df8eb7c",
   "metadata": {},
   "outputs": [],
   "source": [
    "SparkContext.setSystemProperty(key='spark.hadoop.dfs.client.use.datanode.hostname',value='true')"
   ]
  },
  {
   "cell_type": "code",
   "execution_count": 5,
   "id": "3367c41c-09b6-438a-8037-b060dbf4be64",
   "metadata": {
    "id": "wnB3qrDkAJNX"
   },
   "outputs": [],
   "source": [
    "sc =SparkContext()"
   ]
  },
  {
   "cell_type": "code",
   "execution_count": 6,
   "id": "237856e6-0560-4fc6-bd31-dc3e19dec492",
   "metadata": {
    "id": "2mfBvmJoejHV"
   },
   "outputs": [],
   "source": [
    "sc.setLogLevel(\"ERROR\")"
   ]
  },
  {
   "cell_type": "code",
   "execution_count": 7,
   "id": "3b2e41ba-de81-41f3-a563-f992fe56ac91",
   "metadata": {
    "id": "bxVoyCsJAU1Q"
   },
   "outputs": [],
   "source": [
    "spark = SparkSession(sc)"
   ]
  },
  {
   "cell_type": "code",
   "execution_count": 8,
   "id": "10f2ac4c-cae0-4e8f-b67b-032c184ee266",
   "metadata": {},
   "outputs": [],
   "source": [
    "df = spark.read.csv('data/tmdb_5000_movies.csv',inferSchema=True,header=True)"
   ]
  },
  {
   "cell_type": "code",
   "execution_count": 18,
   "id": "4699fa52-cff0-466c-a6a6-33bb90a253fa",
   "metadata": {},
   "outputs": [
    {
     "name": "stdout",
     "output_type": "stream",
     "text": [
      "+---------------+--------------------+--------------------+--------------------+--------------------+----------------+\n",
      "|          title|             tagline|            overview|          popularity|        vote_average|      vote_count|\n",
      "+---------------+--------------------+--------------------+--------------------+--------------------+----------------+\n",
      "|  {\"\"id\"\": 3388| \"\"name\"\": \"\"spac...|        {\"\"id\"\": 878| \"\"name\"\": \"\"Scie...| \"\"name\"\": \"\"spac...|   {\"\"id\"\": 3679|\n",
      "|  {\"\"id\"\": 2038| \"\"name\"\": \"\"east...|http://disney.go....|                 285| \"\"name\"\": \"\"love...|   {\"\"id\"\": 2052|\n",
      "| {\"\"id\"\": 14555| \"\"name\"\": \"\"sequ...|http://www.sonypi...|              206647|  \"\"name\"\": \"\"mi6\"\"}| {\"\"id\"\": 156095|\n",
      "|  {\"\"id\"\": 1308| \"\"name\"\": \"\"terr...|         {\"\"id\"\": 53| \"\"name\"\": \"\"Thri...| \"\"name\"\": \"\"secr...|   {\"\"id\"\": 1437|\n",
      "|  {\"\"id\"\": 7376| \"\"name\"\": \"\"spac...|http://movies.dis...|               49529| \"\"name\"\": \"\"prin...|   {\"\"id\"\": 9951|\n",
      "+---------------+--------------------+--------------------+--------------------+--------------------+----------------+\n",
      "only showing top 5 rows\n",
      "\n"
     ]
    }
   ],
   "source": [
    "df.select('title', 'tagline', 'overview', 'popularity','vote_average', 'vote_count').show(5)"
   ]
  },
  {
   "cell_type": "markdown",
   "id": "9f82ae3c-ac0e-41e0-8ab4-ef453698b10d",
   "metadata": {
    "tags": []
   },
   "source": [
    "# Overview"
   ]
  },
  {
   "cell_type": "code",
   "execution_count": 16,
   "id": "0ebad491-b088-442a-b490-611e6e4c85e0",
   "metadata": {},
   "outputs": [
    {
     "name": "stdout",
     "output_type": "stream",
     "text": [
      "+---------+-------------+--------------------+------------+--------------------+-----------------+--------------------+-------------+--------------------+--------------------+--------------------+---------------+--------------------+--------------+--------------------+--------------+--------------------+--------------+--------------------+--------------+\n",
      "|   budget|       genres|            homepage|          id|            keywords|original_language|      original_title|     overview|          popularity|production_companies|production_countries|   release_date|             revenue|       runtime|    spoken_languages|        status|             tagline|         title|        vote_average|    vote_count|\n",
      "+---------+-------------+--------------------+------------+--------------------+-----------------+--------------------+-------------+--------------------+--------------------+--------------------+---------------+--------------------+--------------+--------------------+--------------+--------------------+--------------+--------------------+--------------+\n",
      "|237000000|\"[{\"\"id\"\": 28| \"\"name\"\": \"\"Acti...| {\"\"id\"\": 12| \"\"name\"\": \"\"Adve...|      {\"\"id\"\": 14| \"\"name\"\": \"\"Fant...| {\"\"id\"\": 878| \"\"name\"\": \"\"Scie...|http://www.avatar...|               19995|\"[{\"\"id\"\": 1463| \"\"name\"\": \"\"cult...| {\"\"id\"\": 2964| \"\"name\"\": \"\"futu...| {\"\"id\"\": 3386| \"\"name\"\": \"\"spac...| {\"\"id\"\": 3388| \"\"name\"\": \"\"spac...| {\"\"id\"\": 3679|\n",
      "+---------+-------------+--------------------+------------+--------------------+-----------------+--------------------+-------------+--------------------+--------------------+--------------------+---------------+--------------------+--------------+--------------------+--------------+--------------------+--------------+--------------------+--------------+\n",
      "only showing top 1 row\n",
      "\n",
      "root\n",
      " |-- budget: string (nullable = true)\n",
      " |-- genres: string (nullable = true)\n",
      " |-- homepage: string (nullable = true)\n",
      " |-- id: string (nullable = true)\n",
      " |-- keywords: string (nullable = true)\n",
      " |-- original_language: string (nullable = true)\n",
      " |-- original_title: string (nullable = true)\n",
      " |-- overview: string (nullable = true)\n",
      " |-- popularity: string (nullable = true)\n",
      " |-- production_companies: string (nullable = true)\n",
      " |-- production_countries: string (nullable = true)\n",
      " |-- release_date: string (nullable = true)\n",
      " |-- revenue: string (nullable = true)\n",
      " |-- runtime: string (nullable = true)\n",
      " |-- spoken_languages: string (nullable = true)\n",
      " |-- status: string (nullable = true)\n",
      " |-- tagline: string (nullable = true)\n",
      " |-- title: string (nullable = true)\n",
      " |-- vote_average: string (nullable = true)\n",
      " |-- vote_count: string (nullable = true)\n",
      "\n",
      "There are 4806 rows and 20 columns in dataframe\n"
     ]
    }
   ],
   "source": [
    "df.show(1,vertical=False,truncate=True)\n",
    "df.printSchema()\n",
    "print(f'There are {df.count()} rows and {len(df.columns)} columns in dataframe')"
   ]
  },
  {
   "cell_type": "markdown",
   "id": "b96ef814-2f74-4a80-ae2a-ad98dd7bdae4",
   "metadata": {},
   "source": [
    "## check null"
   ]
  },
  {
   "cell_type": "code",
   "execution_count": 13,
   "id": "ee770f03-85b9-4448-8210-622dad6b7068",
   "metadata": {},
   "outputs": [
    {
     "name": "stdout",
     "output_type": "stream",
     "text": [
      "+------+------+--------+---+--------+-----------------+--------------+--------+----------+--------------------+--------------------+------------+-------+-------+----------------+------+-------+-----+------------+----------+\n",
      "|budget|genres|homepage| id|keywords|original_language|original_title|overview|popularity|production_companies|production_countries|release_date|revenue|runtime|spoken_languages|status|tagline|title|vote_average|vote_count|\n",
      "+------+------+--------+---+--------+-----------------+--------------+--------+----------+--------------------+--------------------+------------+-------+-------+----------------+------+-------+-----+------------+----------+\n",
      "|     0|     0|       0|  0|       0|                0|             0|       0|         0|                   0|                   0|           0|      0|      0|               0|     0|      0|    0|           0|         0|\n",
      "+------+------+--------+---+--------+-----------------+--------------+--------+----------+--------------------+--------------------+------------+-------+-------+----------------+------+-------+-----+------------+----------+\n",
      "\n"
     ]
    }
   ],
   "source": [
    "df.select([f.count(f.when(f.isnan(c), c)).alias(c) for c in df.columns]).show()"
   ]
  },
  {
   "cell_type": "code",
   "execution_count": 14,
   "id": "889f094a-7425-4bba-ac28-303cca9d4761",
   "metadata": {},
   "outputs": [
    {
     "name": "stdout",
     "output_type": "stream",
     "text": [
      "+------+------+--------+---+--------+-----------------+--------------+--------+----------+--------------------+--------------------+------------+-------+-------+----------------+------+-------+-----+------------+----------+\n",
      "|budget|genres|homepage| id|keywords|original_language|original_title|overview|popularity|production_companies|production_countries|release_date|revenue|runtime|spoken_languages|status|tagline|title|vote_average|vote_count|\n",
      "+------+------+--------+---+--------+-----------------+--------------+--------+----------+--------------------+--------------------+------------+-------+-------+----------------+------+-------+-----+------------+----------+\n",
      "|     0|     0|      23|613|       0|              961|             0|     926|         1|                 425|                   0|         121|      0|     20|               1|     5|     13|   12|          16|        24|\n",
      "+------+------+--------+---+--------+-----------------+--------------+--------+----------+--------------------+--------------------+------------+-------+-------+----------------+------+-------+-----+------------+----------+\n",
      "\n"
     ]
    }
   ],
   "source": [
    "df.select([f.count(f.when(f.isnull(c), c)).alias(c) for c in df.columns]).show()"
   ]
  },
  {
   "cell_type": "markdown",
   "id": "862851f4-c0f0-4125-81b4-86571a082173",
   "metadata": {},
   "source": [
    "## Descirble data"
   ]
  },
  {
   "cell_type": "code",
   "execution_count": 15,
   "id": "25bcff48-77a0-49b6-8b05-0498213ff7d2",
   "metadata": {},
   "outputs": [
    {
     "data": {
      "text/plain": [
       "['Geography',\n",
       " 'Gender',\n",
       " 'Tenure',\n",
       " 'NumOfProducts',\n",
       " 'HasCrCard',\n",
       " 'IsActiveMember',\n",
       " 'Exited']"
      ]
     },
     "execution_count": 15,
     "metadata": {},
     "output_type": "execute_result"
    }
   ],
   "source": [
    "cat_col = ['Geography', 'Gender', 'Tenure','NumOfProducts', 'HasCrCard','IsActiveMember','Exited']\n",
    "cat_col"
   ]
  },
  {
   "cell_type": "code",
   "execution_count": 16,
   "id": "841404e0-1b34-49b2-8578-a64780507632",
   "metadata": {},
   "outputs": [
    {
     "data": {
      "text/plain": [
       "['CreditScore', 'Age', 'Balance', 'EstimatedSalary']"
      ]
     },
     "execution_count": 16,
     "metadata": {},
     "output_type": "execute_result"
    }
   ],
   "source": [
    "numeric_col = [k for k,v in dict(df.dtypes).items() if not (v=='string' or v=='timestamp') and not k in cat_col]\n",
    "numeric_col = numeric_col[2:] \n",
    "numeric_col"
   ]
  },
  {
   "cell_type": "code",
   "execution_count": 17,
   "id": "433a41f4-73c8-4598-8476-61fb48ce2451",
   "metadata": {},
   "outputs": [
    {
     "name": "stdout",
     "output_type": "stream",
     "text": [
      "+-------+-----------------+------------------+-----------------+-----------------+\n",
      "|summary|      CreditScore|               Age|          Balance|  EstimatedSalary|\n",
      "+-------+-----------------+------------------+-----------------+-----------------+\n",
      "|  count|            10000|             10000|            10000|            10000|\n",
      "|   mean|         650.5288|           38.9218|76485.88928799961|100090.2398809998|\n",
      "| stddev|96.65329873613035|10.487806451704587|62397.40520238599|57510.49281769821|\n",
      "|    min|              350|                18|              0.0|            11.58|\n",
      "|    max|              850|                92|        250898.09|        199992.48|\n",
      "+-------+-----------------+------------------+-----------------+-----------------+\n",
      "\n"
     ]
    }
   ],
   "source": [
    "df.select(numeric_col).describe().show()"
   ]
  },
  {
   "cell_type": "markdown",
   "id": "5e9e3fe1-5740-4a8c-a7c5-b7d9d88fbf97",
   "metadata": {},
   "source": [
    "## Category data"
   ]
  },
  {
   "cell_type": "markdown",
   "id": "60ed6495-f27b-41d9-85fa-6f97ee711d3d",
   "metadata": {},
   "source": [
    "### Check distinct values"
   ]
  },
  {
   "cell_type": "code",
   "execution_count": 18,
   "id": "ae4eb1d3-30ff-4c51-be19-1fe2c6a78037",
   "metadata": {},
   "outputs": [
    {
     "name": "stdout",
     "output_type": "stream",
     "text": [
      "+---------+----------+-------+---------+------+------+-------------+---------+--------------+------+\n",
      "|RowNumber|CustomerId|Surname|Geography|Gender|Tenure|NumOfProducts|HasCrCard|IsActiveMember|Exited|\n",
      "+---------+----------+-------+---------+------+------+-------------+---------+--------------+------+\n",
      "|    10000|     10000|   2932|        3|     2|    11|            4|        2|             2|     2|\n",
      "+---------+----------+-------+---------+------+------+-------------+---------+--------------+------+\n",
      "\n"
     ]
    }
   ],
   "source": [
    "df.select([f.count_distinct(c).alias(c) for c in df.columns if c not in numeric_col]).show()"
   ]
  },
  {
   "cell_type": "markdown",
   "id": "4ab1e926-440b-4a1c-ad1a-5165c21ca2a6",
   "metadata": {},
   "source": [
    "- Remove some columns is not appropriate for model: `RowNumber, RowNumber, Surname `because it can cause **the curse of dimensionality**"
   ]
  },
  {
   "cell_type": "code",
   "execution_count": 19,
   "id": "217788e1-1a85-44e3-913e-fa173f4cb40b",
   "metadata": {},
   "outputs": [],
   "source": [
    "df_final = df.drop('RowNumber','CustomerId','Surname')"
   ]
  },
  {
   "cell_type": "markdown",
   "id": "aaee5de9-01ae-4d72-8715-248996397fff",
   "metadata": {},
   "source": [
    "### Check top5 disticnt value count of each category columns in df "
   ]
  },
  {
   "cell_type": "code",
   "execution_count": 20,
   "id": "a08c83b1-d0ca-4cff-b6ac-45826e017aa4",
   "metadata": {},
   "outputs": [
    {
     "name": "stdout",
     "output_type": "stream",
     "text": [
      "+---------+-----+---------+\n",
      "|Geography|count|Normalize|\n",
      "+---------+-----+---------+\n",
      "|France   |5014 |0.5014   |\n",
      "|Germany  |2509 |0.2509   |\n",
      "|Spain    |2477 |0.2477   |\n",
      "+---------+-----+---------+\n",
      "\n",
      "+------+-----+---------+\n",
      "|Gender|count|Normalize|\n",
      "+------+-----+---------+\n",
      "|Male  |5457 |0.5457   |\n",
      "|Female|4543 |0.4543   |\n",
      "+------+-----+---------+\n",
      "\n",
      "+------+-----+---------+\n",
      "|Tenure|count|Normalize|\n",
      "+------+-----+---------+\n",
      "|2     |1048 |0.1048   |\n",
      "|1     |1035 |0.1035   |\n",
      "|7     |1028 |0.1028   |\n",
      "|8     |1025 |0.1025   |\n",
      "|5     |1012 |0.1012   |\n",
      "+------+-----+---------+\n",
      "only showing top 5 rows\n",
      "\n",
      "+-------------+-----+---------+\n",
      "|NumOfProducts|count|Normalize|\n",
      "+-------------+-----+---------+\n",
      "|1            |5084 |0.5084   |\n",
      "|2            |4590 |0.459    |\n",
      "|3            |266  |0.0266   |\n",
      "|4            |60   |0.006    |\n",
      "+-------------+-----+---------+\n",
      "\n",
      "+---------+-----+---------+\n",
      "|HasCrCard|count|Normalize|\n",
      "+---------+-----+---------+\n",
      "|1        |7055 |0.7055   |\n",
      "|0        |2945 |0.2945   |\n",
      "+---------+-----+---------+\n",
      "\n",
      "+--------------+-----+---------+\n",
      "|IsActiveMember|count|Normalize|\n",
      "+--------------+-----+---------+\n",
      "|1             |5151 |0.5151   |\n",
      "|0             |4849 |0.4849   |\n",
      "+--------------+-----+---------+\n",
      "\n",
      "+------+-----+---------+\n",
      "|Exited|count|Normalize|\n",
      "+------+-----+---------+\n",
      "|0     |7963 |0.7963   |\n",
      "|1     |2037 |0.2037   |\n",
      "+------+-----+---------+\n",
      "\n"
     ]
    }
   ],
   "source": [
    "for col in cat_col:\n",
    "    (df.groupby(col).count()\n",
    "     .withColumn('Normalize',(f.col('count')/df_final.count()))\n",
    "     .orderBy(f.col('count').desc())\n",
    "     .show(5,vertical=False,truncate=False))"
   ]
  },
  {
   "cell_type": "code",
   "execution_count": 21,
   "id": "b09845f6-47fc-4bf2-ae1d-5aae6f647e8a",
   "metadata": {},
   "outputs": [],
   "source": [
    "df_final = df_final.withColumnRenamed('Exited','label')"
   ]
  },
  {
   "cell_type": "markdown",
   "id": "aa777655-7d03-4f70-b567-7d898408485a",
   "metadata": {},
   "source": [
    "Besides, As can been seen, the label column has imbalanced data => use SMOTE to handle data\n",
    "\n",
    "| Exited | count|\n",
    "|------- |------|\n",
    "| 0      | 7963 |\n",
    "| 1      | 2037 |"
   ]
  },
  {
   "cell_type": "code",
   "execution_count": 22,
   "id": "65ccef77-f4a4-403b-963e-e2c3cbc21681",
   "metadata": {},
   "outputs": [
    {
     "data": {
      "text/plain": [
       "{1: 1.0, 0: 3.9091801669121256}"
      ]
     },
     "execution_count": 22,
     "metadata": {},
     "output_type": "execute_result"
    }
   ],
   "source": [
    "positive_class_label = 1\n",
    "\n",
    "# Count the occurrences of the minority class\n",
    "minority_count = df_final.filter(df_final.label == positive_class_label).count()\n",
    "\n",
    "# Count the occurrences of the majority class\n",
    "majority_count = df_final.filter(df_final.label != positive_class_label).count()\n",
    "\n",
    "# Calculate the ratio between majority and minority class\n",
    "class_ratio = majority_count / minority_count\n",
    "\n",
    "# Calculate the class weights\n",
    "class_weights = {positive_class_label: 1.0, 0: class_ratio}\n",
    "class_weights"
   ]
  },
  {
   "cell_type": "markdown",
   "id": "3fb0ea9b-dd76-487b-be78-3810d10983c4",
   "metadata": {},
   "source": [
    "## Numeric data"
   ]
  },
  {
   "cell_type": "markdown",
   "id": "2996aa95-c2ab-4d5b-9e2a-ebea485dc6a5",
   "metadata": {},
   "source": [
    "## Check skewness"
   ]
  },
  {
   "cell_type": "code",
   "execution_count": 23,
   "id": "6a3b4a2b-061d-4f2d-83bb-5a1f68075c01",
   "metadata": {},
   "outputs": [
    {
     "name": "stdout",
     "output_type": "stream",
     "text": [
      "+---------------------+------------------+-------------------+-------------------------+\n",
      "|skewness(CreditScore)|     skewness(Age)|  skewness(Balance)|skewness(EstimatedSalary)|\n",
      "+---------------------+------------------+-------------------+-------------------------+\n",
      "| -0.07159586676212142|1.0111685586628147|-0.1410875437529113|     0.002085044844874...|\n",
      "+---------------------+------------------+-------------------+-------------------------+\n",
      "\n"
     ]
    }
   ],
   "source": [
    "df_final.select([f.skewness(c) for c in numeric_col]).show()"
   ]
  },
  {
   "cell_type": "markdown",
   "id": "d5e47b68-6201-446d-b454-ec548ba9f297",
   "metadata": {},
   "source": [
    "There is a high skewness => use MinMax scaler"
   ]
  },
  {
   "cell_type": "markdown",
   "id": "a9589105-bfea-4642-b313-1ca5efc21401",
   "metadata": {},
   "source": [
    "## Coeffiecient Correlation "
   ]
  },
  {
   "cell_type": "code",
   "execution_count": 24,
   "id": "13be1fb4-3001-4ad1-891b-50e58862d418",
   "metadata": {},
   "outputs": [
    {
     "data": {
      "image/png": "[encoded data removed]",
      "text/plain": [
       "<Figure size 864x576 with 2 Axes>"
      ]
     },
     "metadata": {
      "needs_background": "light"
     },
     "output_type": "display_data"
    }
   ],
   "source": [
    "corr = df_final.select([c for c in df_final.columns if c not in cat_col]).toPandas().corr(numeric_only=True)\n",
    "mask_ut=np.triu(np.ones(corr.shape)).astype(bool)\n",
    "plt.figure(figsize=(12,8))\n",
    "sns.heatmap(corr,\n",
    "            annot=True,\n",
    "            vmin=-1,center=0,vmax=1,\n",
    "            cmap=sns.diverging_palette(20, 220, n=200),\n",
    "            mask=mask_ut)\n",
    "plt.show()"
   ]
  },
  {
   "cell_type": "markdown",
   "id": "fe535e71-a8f1-4970-8276-abb66871b35c",
   "metadata": {},
   "source": [
    "There is not the significant coefficient correlation"
   ]
  },
  {
   "cell_type": "markdown",
   "id": "0e109986-4358-4bc0-80d0-9dcf15d9b72d",
   "metadata": {
    "tags": []
   },
   "source": [
    "From what I have seen: \n",
    "- nominal data: 'Geography'\n",
    "- ordinal data: 'Tenure', 'NumOfProducts'\n",
    "- binary data: 'Gender', 'HasCrCard', 'IsActiveMember'\n",
    "- numeric data: 'CreditScore', 'Age', 'EstimatedSalary'\n",
    "- Target: 'label'"
   ]
  },
  {
   "cell_type": "markdown",
   "id": "4c586f7a-11f3-4197-917d-913f41bceaee",
   "metadata": {},
   "source": [
    "=> There are 2 cols: Geography and Gender which are not formated to standard type"
   ]
  },
  {
   "cell_type": "markdown",
   "id": "c72986e6-6c3d-47f8-989a-9feb4bd5d1d0",
   "metadata": {
    "tags": []
   },
   "source": [
    "# Preprocessing"
   ]
  },
  {
   "cell_type": "markdown",
   "id": "b521e9f7-cd8c-4d8e-8928-ed4c3e421e24",
   "metadata": {
    "tags": []
   },
   "source": [
    "## Split Data"
   ]
  },
  {
   "cell_type": "code",
   "execution_count": 25,
   "id": "bac83b1b-4493-4977-8960-86614c197d25",
   "metadata": {
    "tags": []
   },
   "outputs": [
    {
     "name": "stdout",
     "output_type": "stream",
     "text": [
      "+-----------+---------+------+---+------+-------+-------------+---------+--------------+---------------+-----+\n",
      "|CreditScore|Geography|Gender|Age|Tenure|Balance|NumOfProducts|HasCrCard|IsActiveMember|EstimatedSalary|label|\n",
      "+-----------+---------+------+---+------+-------+-------------+---------+--------------+---------------+-----+\n",
      "|        619|   France|Female| 42|     2|    0.0|            1|        1|             1|      101348.88|    1|\n",
      "+-----------+---------+------+---+------+-------+-------------+---------+--------------+---------------+-----+\n",
      "only showing top 1 row\n",
      "\n",
      "root\n",
      " |-- CreditScore: integer (nullable = true)\n",
      " |-- Geography: string (nullable = true)\n",
      " |-- Gender: string (nullable = true)\n",
      " |-- Age: integer (nullable = true)\n",
      " |-- Tenure: integer (nullable = true)\n",
      " |-- Balance: double (nullable = true)\n",
      " |-- NumOfProducts: integer (nullable = true)\n",
      " |-- HasCrCard: integer (nullable = true)\n",
      " |-- IsActiveMember: integer (nullable = true)\n",
      " |-- EstimatedSalary: double (nullable = true)\n",
      " |-- label: integer (nullable = true)\n",
      "\n"
     ]
    }
   ],
   "source": [
    "df_final.show(1)\n",
    "df_final.printSchema()"
   ]
  },
  {
   "cell_type": "code",
   "execution_count": 26,
   "id": "8be5fede-c4e6-4994-9e6c-9a71e12a424c",
   "metadata": {},
   "outputs": [],
   "source": [
    "train_data, test_data = df_final.randomSplit([0.8,0.2],seed=42)"
   ]
  },
  {
   "cell_type": "markdown",
   "id": "7629f42f-2f1f-403a-9292-95a5a4d94520",
   "metadata": {},
   "source": [
    "## one hot encoding the nominal data"
   ]
  },
  {
   "cell_type": "code",
   "execution_count": 51,
   "id": "3d4108e9-71d3-4bbe-bb35-5661a53ad4e5",
   "metadata": {},
   "outputs": [],
   "source": [
    "# String to index according to frequencyDesc\n",
    "fre_indexer = feat.StringIndexer(inputCols=['Geography', 'Gender'],\n",
    "                             outputCols=['geo_idx','gender_idx'],\n",
    "                             handleInvalid='keep',\n",
    "                             stringOrderType='frequencyDesc')\n",
    "\n",
    "\n",
    "#  one hot encoding the nominal data\n",
    "ohe_encoder = feat.OneHotEncoder(inputCols= ['geo_idx','gender_idx'], \n",
    "                                 outputCols=['geo_ohe','gender_ohe'],\n",
    "                                 handleInvalid='keep',\n",
    "                                 dropLast=True)\n",
    "\n",
    "\n",
    "\n",
    "# Scaling the numeric features \n",
    "va = feat.VectorAssembler(inputCols=['CreditScore', 'Age', 'EstimatedSalary'], outputCol=\"num_feature\")\n",
    "scaler1 = feat.RobustScaler(inputCol='num_feature',outputCol='robust_scale')\n",
    "\n",
    "# Assemble features into a vector \n",
    "assembler = feat.VectorAssembler(inputCols=['Tenure', 'NumOfProducts', # ordinal\n",
    "                                            'geo_ohe','gender_ohe', # ohe\n",
    "                                            'HasCrCard', 'IsActiveMember', # binary\n",
    "                                            'robust_scale'], # numeric\n",
    "                                 outputCol='features')"
   ]
  },
  {
   "cell_type": "markdown",
   "id": "826adcc0-dd69-45ef-9182-df4ee8777aa7",
   "metadata": {},
   "source": [
    "## Build Pipeline"
   ]
  },
  {
   "cell_type": "code",
   "execution_count": 125,
   "id": "12356ae8-55c3-4841-8e21-1d0e07ab5668",
   "metadata": {},
   "outputs": [],
   "source": [
    "# Build Pipiline and train data\n",
    "pre_pipeline = Pipeline(stages=[fre_indexer,\n",
    "                             ohe_encoder,\n",
    "                             va,\n",
    "                             scaler1,\n",
    "                             assembler])"
   ]
  },
  {
   "cell_type": "code",
   "execution_count": 126,
   "id": "af53854f-8d5a-4508-8022-3264067e7fb5",
   "metadata": {},
   "outputs": [],
   "source": [
    "pre_pipeline = pre_pipeline.fit(train_data)\n",
    "pre_train_data = pre_pipeline.transform(train_data).select('features','label')\n"
   ]
  },
  {
   "cell_type": "markdown",
   "id": "3856cd5c-5000-407b-b941-60e5383a7798",
   "metadata": {},
   "source": [
    "## Handle Imbalanced data"
   ]
  },
  {
   "cell_type": "code",
   "execution_count": 32,
   "id": "a2109b2e-c960-4ca9-b7fc-3679b371df14",
   "metadata": {},
   "outputs": [],
   "source": [
    "X_train, y_train = zip(*pre_train_data.rdd.map(lambda row: (row['features'], row['label'])).collect())\n",
    "oversampler = SMOTE(sampling_strategy='auto', random_state=42)\n",
    "X_train_oversampled, y_train_oversampled = oversampler.fit_resample(X_train, y_train)"
   ]
  },
  {
   "cell_type": "code",
   "execution_count": 33,
   "id": "c8ae6892-8f12-4264-a648-8e49c28dcac8",
   "metadata": {},
   "outputs": [
    {
     "data": {
      "text/plain": [
       "0    6448\n",
       "1    6448\n",
       "dtype: int64"
      ]
     },
     "execution_count": 33,
     "metadata": {},
     "output_type": "execute_result"
    }
   ],
   "source": [
    "pd.DataFrame(y_train_oversampled).value_counts()"
   ]
  },
  {
   "cell_type": "code",
   "execution_count": 46,
   "id": "d33162ee-caff-4866-99ab-4e0c2b619ef9",
   "metadata": {},
   "outputs": [
    {
     "data": {
      "text/plain": [
       "Row(features=DenseVector([0.0, 1.0, 1.0, 0.0, 0.0, 0.0, 0.0, 1.0, 0.0, 1.0, 1.0, 2.5926, 3.3333, 1.7458]), label=1)"
      ]
     },
     "execution_count": 46,
     "metadata": {},
     "output_type": "execute_result"
    }
   ],
   "source": [
    "data = [Row(features=Vectors.dense(f),label=int(l)) for f, l in zip(X_train_oversampled,y_train_oversampled)]\n",
    "data[0]"
   ]
  },
  {
   "cell_type": "code",
   "execution_count": 52,
   "id": "7dc10a5b-4ba6-4973-b1e0-74afc2ffc4c2",
   "metadata": {},
   "outputs": [
    {
     "name": "stdout",
     "output_type": "stream",
     "text": [
      "+----------------------------------------------------------------------------------------------------+-----+\n",
      "|features                                                                                            |label|\n",
      "+----------------------------------------------------------------------------------------------------+-----+\n",
      "|[0.0,1.0,1.0,0.0,0.0,0.0,0.0,1.0,0.0,1.0,1.0,2.5925925925925926,3.333333333333333,1.745814461507351]|1    |\n",
      "+----------------------------------------------------------------------------------------------------+-----+\n",
      "only showing top 1 row\n",
      "\n"
     ]
    }
   ],
   "source": [
    "train_oversampling = spark.createDataFrame(data)\n",
    "train_oversampling.show(1,False)"
   ]
  },
  {
   "cell_type": "markdown",
   "id": "d5bb32c9-48cb-4fba-a6f8-222ad398e4ee",
   "metadata": {},
   "source": [
    "- Train the over sampling data"
   ]
  },
  {
   "cell_type": "code",
   "execution_count": 58,
   "id": "0961d75d-2377-408c-bfea-62aa118397c2",
   "metadata": {},
   "outputs": [],
   "source": [
    "#Pipeline(stages=[pre_pipeline,lo_clf]).fit(train_data)"
   ]
  },
  {
   "cell_type": "code",
   "execution_count": 65,
   "id": "d04b3156-2289-44e6-8eaa-7440880a595b",
   "metadata": {},
   "outputs": [],
   "source": [
    "# Build Pipiline and train data\n",
    "lo_clf = LogisticRegression(featuresCol='features', labelCol='label', predictionCol='prediction')\n",
    "\n",
    "rf_clf = RandomForestClassifier(featuresCol='features', labelCol='label', predictionCol='prediction',seed=42)"
   ]
  },
  {
   "cell_type": "markdown",
   "id": "7edd05ff-6455-4258-9e4f-4f772bea48cf",
   "metadata": {},
   "source": [
    "# Train Data and Tune HyperParams"
   ]
  },
  {
   "cell_type": "markdown",
   "id": "b678b4b7-a46e-4c0d-90e8-59c9f6f36e05",
   "metadata": {},
   "source": [
    "## Set up Params for cross valisation process"
   ]
  },
  {
   "cell_type": "code",
   "execution_count": 59,
   "id": "c4f2bbb2-10b2-4bbe-a2fe-1d25189c31a7",
   "metadata": {},
   "outputs": [],
   "source": [
    "params_lo_clf =(ParamGridBuilder()\n",
    "             .addGrid(lo_clf.regParam, [0.0,0.1 ,1.0])\n",
    "             .addGrid(lo_clf.elasticNetParam, [0.0, 0.5],)\n",
    "             .build())\n",
    "params_rf_clf = (ParamGridBuilder()\n",
    "             .addGrid(rf_clf.maxDepth, [5, 10,15])\n",
    "             .addGrid(rf_clf.minInstancesPerNode, [2,4, 5])\n",
    "             .addGrid(rf_clf.maxBins, [10,32])\n",
    "             .build())"
   ]
  },
  {
   "cell_type": "code",
   "execution_count": 60,
   "id": "c3c95050-27dc-4557-a558-56da45473ae9",
   "metadata": {},
   "outputs": [],
   "source": [
    "f1_evaluator = MulticlassClassificationEvaluator(metricName='f1')\n",
    "binary_evaluator = BinaryClassificationEvaluator(metricName='areaUnderROC')"
   ]
  },
  {
   "cell_type": "code",
   "execution_count": null,
   "id": "041798ed-9293-4169-a511-59ddbe91502e",
   "metadata": {},
   "outputs": [],
   "source": [
    "#print(evaluator.explainParams())"
   ]
  },
  {
   "cell_type": "code",
   "execution_count": 66,
   "id": "5c2c9549-fc15-4b2d-a239-9f7a853dcade",
   "metadata": {},
   "outputs": [],
   "source": [
    "lo_crossval = CrossValidator(estimator=lo_clf,\n",
    "                              estimatorParamMaps=params_lo_clf,\n",
    "                              evaluator=f1_evaluator,\n",
    "                              numFolds=5)\n",
    "\n",
    "rf_crossval = CrossValidator(estimator=rf_clf,\n",
    "                              estimatorParamMaps=params_rf_clf,\n",
    "                              evaluator=f1_evaluator,\n",
    "                              numFolds=5)"
   ]
  },
  {
   "cell_type": "code",
   "execution_count": 67,
   "id": "2d253aad-4747-447a-b4a1-b8e81dadff78",
   "metadata": {},
   "outputs": [],
   "source": [
    "lo_cv_model = lo_crossval.fit(train_oversampling)\n",
    "rf_cv_model = rf_crossval.fit(train_oversampling)"
   ]
  },
  {
   "cell_type": "code",
   "execution_count": 70,
   "id": "855156ce-3c10-4d63-bc1c-75b7cd80a42b",
   "metadata": {},
   "outputs": [
    {
     "name": "stdout",
     "output_type": "stream",
     "text": [
      "Best regularization parameter (regParam): 0.0\n",
      "Best elastic net parameter (elasticNetParam): 0.0\n"
     ]
    }
   ],
   "source": [
    "best_lr_model = lo_cv_model.bestModel  # The last stage is the best model (LogisticRegression in this case)\n",
    "print(\"Best regularization parameter (regParam):\", best_lr_model.getRegParam())\n",
    "print(\"Best elastic net parameter (elasticNetParam):\", best_lr_model.getElasticNetParam())"
   ]
  },
  {
   "cell_type": "code",
   "execution_count": 72,
   "id": "38a13e8d-a71c-4209-866a-20d534d6e1f2",
   "metadata": {},
   "outputs": [
    {
     "name": "stdout",
     "output_type": "stream",
     "text": [
      "Best regularization parameter (regParam): 5\n",
      "Best elastic net parameter (elasticNetParam): 1\n",
      "Best elastic net parameter (elasticNetParam): 32\n"
     ]
    }
   ],
   "source": [
    "best_rf_model = rf_cv_model.bestModel  # The last stage is the best model (LogisticRegression in this case)\n",
    "print(\"Best regularization parameter (regParam):\", best_rf_model.getMaxDepth())\n",
    "print(\"Best elastic net parameter (elasticNetParam):\", best_rf_model.getMinInstancesPerNode())\n",
    "print(\"Best elastic net parameter (elasticNetParam):\", best_rf_model.getMaxBins())"
   ]
  },
  {
   "cell_type": "code",
   "execution_count": 73,
   "id": "9eb9ff3a-2bdb-4abc-950e-a738d9768d08",
   "metadata": {},
   "outputs": [
    {
     "name": "stdout",
     "output_type": "stream",
     "text": [
      "+-----+----------+-----+\n",
      "|label|prediction|count|\n",
      "+-----+----------+-----+\n",
      "|    1|       0.0| 1884|\n",
      "|    0|       1.0| 1829|\n",
      "|    0|       0.0| 4619|\n",
      "|    1|       1.0| 4564|\n",
      "+-----+----------+-----+\n",
      "\n"
     ]
    }
   ],
   "source": [
    "eval_df = lo_cv_model.transform(train_oversampling)\n",
    "eval_df.groupby('label','prediction').count().show()"
   ]
  },
  {
   "cell_type": "markdown",
   "id": "05f0d5d0-e987-4204-9d83-79b123b01aed",
   "metadata": {},
   "source": [
    "# Evaluation"
   ]
  },
  {
   "cell_type": "code",
   "execution_count": 127,
   "id": "f7e42adf-8a1b-49db-8cfc-a3aac030504b",
   "metadata": {},
   "outputs": [],
   "source": [
    "pre_test_data = pre_pipeline.transform(test_data)"
   ]
  },
  {
   "cell_type": "code",
   "execution_count": 80,
   "id": "0f1c171d-9e68-4a02-b833-22f172fac2d0",
   "metadata": {},
   "outputs": [],
   "source": [
    "lo_results = lo_cv_model.transform(pre_test_data).select('features','label','prediction')\n",
    "rf_results = rf_cv_model.transform(pre_test_data).select('features','label','prediction')"
   ]
  },
  {
   "cell_type": "markdown",
   "id": "1f7ac186-761b-40a6-97d9-1bba1fdaad41",
   "metadata": {},
   "source": [
    "## Confusion matrix of 2 models"
   ]
  },
  {
   "cell_type": "code",
   "execution_count": 86,
   "id": "3b66b22c-314a-4033-a070-0f04759a3243",
   "metadata": {},
   "outputs": [
    {
     "name": "stdout",
     "output_type": "stream",
     "text": [
      "+----------+------------+------------+\n",
      "|true_label|prediction_0|prediction_1|\n",
      "+----------+------------+------------+\n",
      "|         0|        1092|         423|\n",
      "|         1|         129|         277|\n",
      "+----------+------------+------------+\n",
      "\n"
     ]
    }
   ],
   "source": [
    "lo_results.crosstab('label','prediction').withColumnsRenamed({'0.0':'prediction_0',\n",
    "                                                           '1.0':'prediction_1',\n",
    "                                                           'label_prediction':'true_label'}).show()"
   ]
  },
  {
   "cell_type": "code",
   "execution_count": 87,
   "id": "36234a6a-0a3c-424a-86ae-be868c45f5e9",
   "metadata": {},
   "outputs": [
    {
     "name": "stdout",
     "output_type": "stream",
     "text": [
      "+----------+------------+------------+\n",
      "|true_label|prediction_0|prediction_1|\n",
      "+----------+------------+------------+\n",
      "|         0|        1247|         268|\n",
      "|         1|         120|         286|\n",
      "+----------+------------+------------+\n",
      "\n"
     ]
    }
   ],
   "source": [
    "rf_results.crosstab('label','prediction').withColumnsRenamed({'0.0':'prediction_0',\n",
    "                                                           '1.0':'prediction_1',\n",
    "                                                           'label_prediction':'true_label'}).show()"
   ]
  },
  {
   "cell_type": "markdown",
   "id": "a8004419-08f9-44eb-8a5d-da3f888d6ea8",
   "metadata": {},
   "source": [
    "- Random Forest give the better result with high True Positive and True Negative."
   ]
  },
  {
   "cell_type": "code",
   "execution_count": 91,
   "id": "65ca872d-f3de-4962-b878-3a97f1174812",
   "metadata": {},
   "outputs": [
    {
     "name": "stdout",
     "output_type": "stream",
     "text": [
      "Accuracy score of Logistic Regression: 0.7126496616345653\n",
      "Accuracy score of Random Forest: 0.7980218636127017\n",
      "\n",
      "\n",
      "Precision score of Logistic Regression: 0.7889633393745835\n",
      "Precision score of Random Forest: 0.8285287426797946\n",
      "\n",
      "\n",
      "Recall score of Logistic Regression: 0.7126496616345654\n",
      "Recall score of Random Forest: 0.7980218636127017\n",
      "\n",
      "\n",
      "F1 score of Logistic Regression: 0.7354030160701471\n",
      "F1 score of Random Forest: 0.8084048970899212\n",
      "\n",
      "\n"
     ]
    }
   ],
   "source": [
    "multi_evaluator = MulticlassClassificationEvaluator(predictionCol='prediction',labelCol='label')\n",
    "# Random Forest\n",
    "acc_rf = multi_evaluator.evaluate(rf_results,{multi_evaluator.metricName:'accuracy'})\n",
    "precision_rf = multi_evaluator.evaluate(rf_results,{multi_evaluator.metricName:'weightedPrecision'})\n",
    "recall_rf = multi_evaluator.evaluate(rf_results,{multi_evaluator.metricName:'weightedRecall'})\n",
    "f1_rf = multi_evaluator.evaluate(rf_results,{multi_evaluator.metricName:'f1'})\n",
    "\n",
    "# Logistic Regression\n",
    "acc_lo = multi_evaluator.evaluate(lo_results,{multi_evaluator.metricName:'accuracy'})\n",
    "precision_lo = multi_evaluator.evaluate(lo_results,{multi_evaluator.metricName:'weightedPrecision'})\n",
    "recall_lo = multi_evaluator.evaluate(lo_results,{multi_evaluator.metricName:'weightedRecall'})\n",
    "f1_lo = multi_evaluator.evaluate(lo_results,{multi_evaluator.metricName:'f1'})\n",
    "\n",
    "\n",
    "print(\"Accuracy score of Logistic Regression:\", acc_lo)\n",
    "print(\"Accuracy score of Random Forest:\", acc_rf)\n",
    "print('\\n')\n",
    "print(\"Precision score of Logistic Regression:\", precision_lo)\n",
    "print(\"Precision score of Random Forest:\", precision_rf)\n",
    "print('\\n')\n",
    "print(\"Recall score of Logistic Regression:\", recall_lo)\n",
    "print(\"Recall score of Random Forest:\", recall_rf)\n",
    "print('\\n')\n",
    "print(\"F1 score of Logistic Regression:\", f1_lo)\n",
    "print(\"F1 score of Random Forest:\", f1_rf)\n",
    "print('\\n')"
   ]
  },
  {
   "cell_type": "markdown",
   "id": "b611e7a1-f99f-4e5c-a658-d5a8b83ab861",
   "metadata": {},
   "source": [
    "**From the above results, we can summarize the Random Forest give the better score than Logistic regression**\n",
    "\n",
    "`=> Choose Random Forest`\n"
   ]
  },
  {
   "cell_type": "markdown",
   "id": "2a88344c-0927-423a-8159-77f3b2e34569",
   "metadata": {},
   "source": [
    "## Evaluate the model on the test data using ROC"
   ]
  },
  {
   "cell_type": "code",
   "execution_count": 93,
   "id": "4dbab140-8b48-4c78-bda0-68e51ce8d050",
   "metadata": {},
   "outputs": [
    {
     "name": "stdout",
     "output_type": "stream",
     "text": [
      "areaUnderROC of Logistic Regression: 0.7015290445300687\n",
      "areaUnderROC of Random Forest: 0.7637679038839845\n"
     ]
    }
   ],
   "source": [
    "# find AUC\n",
    "binary_evaluator = BinaryClassificationEvaluator(labelCol='label',rawPredictionCol='prediction')\n",
    "roc_lo = binary_evaluator.evaluate(lo_results,{binary_evaluator.metricName:'areaUnderROC'})\n",
    "roc_rf = binary_evaluator.evaluate(rf_results,{binary_evaluator.metricName:'areaUnderROC'})\n",
    "\n",
    "print(\"areaUnderROC of Logistic Regression:\", roc_lo)\n",
    "print(\"areaUnderROC of Random Forest:\", roc_rf)"
   ]
  },
  {
   "cell_type": "markdown",
   "id": "9dda4f20-70eb-45c5-b409-f1c146340175",
   "metadata": {},
   "source": [
    "\n",
    "As can see, the random Forest model give the better score than Linear Regression model with:\n",
    "- Accuracy score of Logistic Regression: \n",
    "    - 0.7126496616345653 (Logistic Regression)\n",
    "    - 0.7980218636127017 (Random Forest)\n",
    "\n",
    "- Precision score: \n",
    "    - 0.7889633393745835 (Logistic Regression)\n",
    "    - 0.8285287426797946 (Random Forest)\n",
    "\n",
    "\n",
    "\n",
    "- Recall score:\n",
    "    - 0.7126496616345654 (Logistic Regression)\n",
    "    - 0.7980218636127017 (Random Forest)\n",
    "\n",
    "\n",
    "- F1 score: \n",
    "    - 0.7354030160701471 (Logistic Regression)\n",
    "    - 0.8084048970899212 (Random Forest)\n",
    "\n",
    "`For that reason, I think selecting Random Forest is appropriate for this dataset`"
   ]
  },
  {
   "cell_type": "markdown",
   "id": "aa588dde-f030-4458-9d57-71efd729a233",
   "metadata": {},
   "source": [
    "# Check new data"
   ]
  },
  {
   "cell_type": "code",
   "execution_count": 119,
   "id": "6e245d59-fd70-4cd1-9b03-730a58126e6b",
   "metadata": {},
   "outputs": [],
   "source": [
    "new_data = [600,'France', 'Male', 40,3,60000,2,'Yes','Yes',50000]"
   ]
  },
  {
   "cell_type": "code",
   "execution_count": 147,
   "id": "353ac4c4-af0d-44d8-85cd-e7700bfbe1d1",
   "metadata": {},
   "outputs": [
    {
     "name": "stdout",
     "output_type": "stream",
     "text": [
      "+-----------+---------+------+---+------+-------+-------------+---------+--------------+---------------+\n",
      "|CreditScore|Geography|Gender|Age|Tenure|Balance|NumOfProducts|HasCrCard|IsActiveMember|EstimatedSalary|\n",
      "+-----------+---------+------+---+------+-------+-------------+---------+--------------+---------------+\n",
      "|        600|   France|  Male| 40|     3|  60000|            2|        1|             1|          50000|\n",
      "+-----------+---------+------+---+------+-------+-------------+---------+--------------+---------------+\n",
      "\n"
     ]
    }
   ],
   "source": [
    "unlabel_data = spark.createDataFrame([new_data],schema=df_final.columns[:-1]).replace(value=str(1),to_replace='Yes',subset=['HasCrCard','IsActiveMember'])\n",
    "unlabel_data = unlabel_data.withColumns({'HasCrCard':unlabel_data['HasCrCard'].cast(t.IntegerType()),\n",
    "                                         'IsActiveMember':unlabel_data['IsActiveMember'].cast(t.IntegerType())})\n",
    "unlabel_data.show()"
   ]
  },
  {
   "cell_type": "code",
   "execution_count": 149,
   "id": "e8dc2c24-5594-4309-9d2a-efba78d2a318",
   "metadata": {},
   "outputs": [
    {
     "name": "stdout",
     "output_type": "stream",
     "text": [
      "['CreditScore', 'Geography', 'Gender', 'Age', 'Tenure', 'Balance', 'NumOfProducts', 'HasCrCard', 'IsActiveMember', 'EstimatedSalary']\n"
     ]
    }
   ],
   "source": [
    "print(unlabel_data.columns)"
   ]
  },
  {
   "cell_type": "code",
   "execution_count": 150,
   "id": "f313b8dc-72aa-4106-ae68-0bd95fcb25f2",
   "metadata": {},
   "outputs": [
    {
     "name": "stdout",
     "output_type": "stream",
     "text": [
      "+-----------+---------+------+---+------+-------+-------------+---------+--------------+---------------+----------+\n",
      "|CreditScore|Geography|Gender|Age|Tenure|Balance|NumOfProducts|HasCrCard|IsActiveMember|EstimatedSalary|prediction|\n",
      "+-----------+---------+------+---+------+-------+-------------+---------+--------------+---------------+----------+\n",
      "|        600|   France|  Male| 40|     3|  60000|            2|        1|             1|          50000|       0.0|\n",
      "+-----------+---------+------+---+------+-------+-------------+---------+--------------+---------------+----------+\n",
      "\n"
     ]
    }
   ],
   "source": [
    "unlabel_pre = pre_pipeline.transform(unlabel_data)\n",
    "rf_cv_model.transform(unlabel_pre).select(*['CreditScore', \n",
    "                                            'Geography', \n",
    "                                            'Gender', \n",
    "                                            'Age', \n",
    "                                            'Tenure', \n",
    "                                            'Balance', \n",
    "                                            'NumOfProducts', \n",
    "                                            'HasCrCard', \n",
    "                                            'IsActiveMember', \n",
    "                                            'EstimatedSalary',\n",
    "                                            'prediction']).show()"
   ]
  }
 ],
 "metadata": {
  "kernelspec": {
   "display_name": "Python 3 (ipykernel)",
   "language": "python",
   "name": "python3"
  },
  "language_info": {
   "codemirror_mode": {
    "name": "ipython",
    "version": 3
   },
   "file_extension": ".py",
   "mimetype": "text/x-python",
   "name": "python",
   "nbconvert_exporter": "python",
   "pygments_lexer": "ipython3",
   "version": "3.9.18"
  }
 },
 "nbformat": 4,
 "nbformat_minor": 5
}
